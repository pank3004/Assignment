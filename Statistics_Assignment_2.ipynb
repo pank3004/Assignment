{
 "cells": [
  {
   "cell_type": "markdown",
   "metadata": {},
   "source": [
    "Q1. What are the three measures of central tendency?\n"
   ]
  },
  {
   "cell_type": "code",
   "execution_count": null,
   "metadata": {},
   "outputs": [],
   "source": [
    "# The three measures of central tendency are:\n",
    "\n",
    "# Mean\n",
    "# Median\n",
    "# Mode"
   ]
  },
  {
   "cell_type": "markdown",
   "metadata": {},
   "source": [
    "Q2. What is the difference between the mean, median, and mode? How are they used to measure the\n",
    "central tendency of a dataset?\n"
   ]
  },
  {
   "cell_type": "code",
   "execution_count": null,
   "metadata": {},
   "outputs": [],
   "source": [
    "# Mean: The arithmetic average of a set of values. It is calculated by summing all the values and dividing by the number of values. It is used when the data is symmetrically distributed without outliers.\n",
    "\n",
    "# Mean=∑𝑥𝑖𝑛\n",
    "# Mean= n∑x i\n",
    "\n",
    "# Median: The middle value of a dataset when it is ordered from least to greatest. If there is an even number of observations, the median is the average of the two middle numbers. It is used when the data is skewed or contains outliers.\n",
    "\n",
    "# Mode: The value that appears most frequently in a dataset. A dataset may have one mode, more than one mode, or no mode at all. It is used for categorical data or to identify the most common value in a dataset."
   ]
  },
  {
   "cell_type": "markdown",
   "metadata": {},
   "source": [
    "Q3. Measure the three measures of central tendency for the given height data:\n",
    "[178,177,176,177,178.2,178,175,179,180,175,178.9,176.2,177,172.5,178,176.5]\n"
   ]
  },
  {
   "cell_type": "code",
   "execution_count": null,
   "metadata": {},
   "outputs": [],
   "source": [
    "import statistics\n",
    "\n",
    "# Given height data\n",
    "data = [178, 177, 176, 177, 178.2, 178, 175, 179, 180, 175, 178.9, 176.2, 177, 172.5, 178, 176.5]\n",
    "\n",
    "# Calculate mean\n",
    "mean = statistics.mean(data)\n",
    "\n",
    "# Calculate median\n",
    "median = statistics.median(data)\n",
    "\n",
    "# Calculate mode\n",
    "mode = statistics.mode(data)\n",
    "\n",
    "# Print results\n",
    "print(f\"Mean: {mean}\")\n",
    "print(f\"Median: {median}\")\n",
    "print(f\"Mode: {mode}\")\n"
   ]
  },
  {
   "cell_type": "markdown",
   "metadata": {},
   "source": [
    "Q4. Find the standard deviation for the given data:\n",
    "[178,177,176,177,178.2,178,175,179,180,175,178.9,176.2,177,172.5,178,176.5]\n"
   ]
  },
  {
   "cell_type": "code",
   "execution_count": null,
   "metadata": {},
   "outputs": [],
   "source": [
    "# Calculate standard deviation\n",
    "stdev = statistics.stdev(data)\n",
    "\n",
    "# Print result\n",
    "print(f\"Standard Deviation: {stdev}\")\n"
   ]
  },
  {
   "cell_type": "markdown",
   "metadata": {},
   "source": [
    "Q5. How are measures of dispersion such as range, variance, and standard deviation used to describe\n",
    "the spread of a dataset? Provide an example.\n"
   ]
  },
  {
   "cell_type": "code",
   "execution_count": null,
   "metadata": {},
   "outputs": [],
   "source": [
    "# Range: The difference between the maximum and minimum values in a dataset. It provides a basic measure of spread.\n",
    "\n",
    "# Example: In the dataset [2, 4, 6, 8, 10], the range is =8.\n",
    "# Variance: The average of the squared differences from the mean. It measures how much the data varies around the mean.\n",
    "\n",
    "# Example: For the dataset [2, 4, 6, 8, 10], the mean is 6, and the variance is =8.\n",
    "# Standard Deviation: The square root of the variance. It provides a measure of spread in the same units as the data.\n",
    "\n",
    "# Example: For the dataset above, the standard deviation is =2.83."
   ]
  },
  {
   "cell_type": "markdown",
   "metadata": {},
   "source": [
    "Q6. What is a Venn diagram?\n"
   ]
  },
  {
   "cell_type": "code",
   "execution_count": null,
   "metadata": {},
   "outputs": [],
   "source": [
    "# A Venn diagram is a graphical representation of sets that shows all possible logical relations between a finite collection of different sets. Each set is represented by a circle, and the overlapping areas indicate the common elements between the sets."
   ]
  },
  {
   "cell_type": "markdown",
   "metadata": {},
   "source": [
    "Q7. For the two given sets A = (2,3,4,5,6,7) & B = (0,2,6,8,10). Find:\n",
    "(i) A B\n",
    "(ii) A ⋃ B\n"
   ]
  },
  {
   "cell_type": "code",
   "execution_count": null,
   "metadata": {},
   "outputs": [],
   "source": [
    "# Given sets\n",
    "A = {2, 3, 4, 5, 6, 7}\n",
    "B = {0, 2, 6, 8, 10}\n",
    "\n",
    "# Intersection\n",
    "intersection = A & B\n",
    "\n",
    "# Union\n",
    "union = A | B\n",
    "\n",
    "# Print results\n",
    "print(f\"A ∩ B: {intersection}\")\n",
    "print(f\"A ∪ B: {union}\")\n"
   ]
  },
  {
   "cell_type": "markdown",
   "metadata": {},
   "source": [
    "Q8. What do you understand about skewness in data?\n"
   ]
  },
  {
   "cell_type": "code",
   "execution_count": null,
   "metadata": {},
   "outputs": [],
   "source": [
    "# Skewness refers to the asymmetry in the distribution of data. A distribution can be:\n",
    "\n",
    "# Negatively skewed (left-skewed): The left tail is longer, and most data points are concentrated on the right.\n",
    "# Positively skewed (right-skewed): The right tail is longer, and most data points are concentrated on the left.\n",
    "# Symmetrical (no skewness): The left and right tails are equally balanced around the mean."
   ]
  },
  {
   "cell_type": "markdown",
   "metadata": {},
   "source": [
    "Q9. If a data is right skewed then what will be the position of median with respect to mean?\n"
   ]
  },
  {
   "cell_type": "code",
   "execution_count": null,
   "metadata": {},
   "outputs": [],
   "source": [
    "# In a right-skewed distribution, the median is typically less than the mean.\n"
   ]
  },
  {
   "cell_type": "markdown",
   "metadata": {},
   "source": [
    "Q10. Explain the difference between covariance and correlation. How are these measures used in\n",
    "statistical analysis?\n"
   ]
  },
  {
   "cell_type": "code",
   "execution_count": null,
   "metadata": {},
   "outputs": [],
   "source": [
    "# Covariance: Measures the degree to which two variables change together. It indicates the direction of the linear relationship but not the strength.\n",
    "\n",
    " \n",
    "# Correlation: Measures both the strength and direction of the linear relationship between two variables. It is the standardized form of covariance.\n",
    "\n",
    "import numpy as np\n",
    "\n",
    "# Example datasets\n",
    "X = np.array([2, 4, 6, 8, 10])\n",
    "Y = np.array([1, 3, 5, 7, 9])\n",
    "\n",
    "# Calculate covariance\n",
    "covariance = np.cov(X, Y, ddof=0)[0, 1]\n",
    "\n",
    "# Calculate correlation\n",
    "correlation = np.corrcoef(X, Y)[0, 1]\n",
    "\n",
    "# Print results\n",
    "print(f\"Covariance between X and Y: {covariance}\")\n",
    "print(f\"Correlation between X and Y: {correlation}\")\n"
   ]
  },
  {
   "cell_type": "markdown",
   "metadata": {},
   "source": [
    "Q11. What is the formula for calculating the sample mean? Provide an example calculation for a\n",
    "dataset.\n"
   ]
  },
  {
   "cell_type": "code",
   "execution_count": null,
   "metadata": {},
   "outputs": [],
   "source": [
    "# Example dataset\n",
    "dataset = [2, 4, 6, 8, 10]\n",
    "\n",
    "# Calculate mean\n",
    "mean = statistics.mean(dataset)\n",
    "\n",
    "# Print result\n",
    "print(f\"Sample Mean: {mean}\")\n"
   ]
  },
  {
   "cell_type": "markdown",
   "metadata": {},
   "source": [
    "Q12. For a normal distribution data what is the relationship between its measure of central tendency?\n"
   ]
  },
  {
   "cell_type": "code",
   "execution_count": null,
   "metadata": {},
   "outputs": [],
   "source": [
    "# For a normal distribution, the mean, median, and mode are all equal."
   ]
  },
  {
   "cell_type": "markdown",
   "metadata": {},
   "source": [
    "Q13. How is covariance different from correlation?\n"
   ]
  },
  {
   "cell_type": "code",
   "execution_count": null,
   "metadata": {},
   "outputs": [],
   "source": [
    "# Covariance: Indicates the direction of the linear relationship between two variables but not the strength. It is not standardized and depends on the units of the variables.\n",
    "# Correlation: Indicates both the direction and strength of the linear relationship between two variables. It is standardized and unitless, ranging from -1 to 1."
   ]
  },
  {
   "cell_type": "markdown",
   "metadata": {},
   "source": [
    "Q14. How do outliers affect measures of central tendency and dispersion? Provide an example."
   ]
  },
  {
   "cell_type": "code",
   "execution_count": null,
   "metadata": {},
   "outputs": [],
   "source": [
    "# Example dataset with an outlier\n",
    "dataset_with_outlier = [2, 4, 6, 8, 10, 100]\n",
    "\n",
    "# Calculate mean\n",
    "mean_with_outlier = statistics.mean(dataset_with_outlier)\n",
    "\n",
    "# Calculate median\n",
    "median_with_outlier = statistics.median(dataset_with_outlier)\n",
    "\n",
    "# Calculate mode (if applicable)\n",
    "try:\n",
    "    mode_with_outlier = statistics.mode(dataset_with_outlier)\n",
    "except statistics.StatisticsError:\n",
    "    mode_with_outlier = None\n",
    "\n",
    "# Calculate standard deviation\n",
    "stdev_with_outlier = statistics.stdev(dataset_with_outlier)\n",
    "\n",
    "# Print results\n",
    "print(f\"Mean with outlier: {mean_with_outlier}\")\n",
    "print(f\"Median with outlier: {median_with_outlier}\")\n",
    "print(f\"Mode with outlier: {mode_with_outlier}\")\n",
    "print(f\"Standard Deviation with outlier: {stdev_with_outlier}\")\n",
    "\n",
    "# Example dataset without an outlier\n",
    "dataset_without_outlier = [2, 4, 6, 8, 10]\n",
    "\n",
    "# Calculate mean\n",
    "mean_without_outlier = statistics.mean(dataset_without_outlier)\n",
    "\n",
    "# Calculate median\n",
    "median_without_outlier = statistics.median(dataset_without_outlier)\n",
    "\n",
    "# Calculate mode\n",
    "mode_without_outlier = statistics.mode(dataset_without_outlier)\n",
    "\n",
    "# Calculate standard deviation\n",
    "stdev_without_outlier = statistics.stdev(dataset_without_outlier)\n",
    "\n",
    "# Print results\n",
    "print(f\"Mean without outlier: {mean_without_outlier}\")\n",
    "print(f\"Median without outlier: {median_without_outlier}\")\n",
    "print(f\"Mode without outlier: {mode_without_outlier}\")\n",
    "print(f\"Standard Deviation without outlier: {stdev_without_outlier}\")\n"
   ]
  },
  {
   "cell_type": "code",
   "execution_count": null,
   "metadata": {},
   "outputs": [],
   "source": []
  }
 ],
 "metadata": {
  "language_info": {
   "name": "python"
  }
 },
 "nbformat": 4,
 "nbformat_minor": 2
}
