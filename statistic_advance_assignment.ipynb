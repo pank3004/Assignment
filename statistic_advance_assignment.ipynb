{
 "cells": [
  {
   "cell_type": "markdown",
   "metadata": {},
   "source": [
    "Q1. What is the Probability density function?\n"
   ]
  },
  {
   "cell_type": "code",
   "execution_count": null,
   "metadata": {},
   "outputs": [],
   "source": [
    "# A Probability Density Function (PDF) is a function that describes the likelihood of a continuous random variable taking on a particular value. \n",
    "# The probability of the variable falling within a particular range is given by the integral of the PDF over that range. \n",
    "# The total area under the PDF curve is always equal to 1."
   ]
  },
  {
   "cell_type": "markdown",
   "metadata": {},
   "source": [
    "Q2. What are the types of Probability distribution?\n"
   ]
  },
  {
   "cell_type": "code",
   "execution_count": null,
   "metadata": {},
   "outputs": [],
   "source": [
    "# The two main types of probability distributions are:\n",
    "\n",
    "# Discrete Probability Distributions: These deal with discrete random variables (e.g., binomial, Poisson, geometric).\n",
    "# Continuous Probability Distributions: These deal with continuous random variables (e.g., normal, exponential, uniform)."
   ]
  },
  {
   "cell_type": "markdown",
   "metadata": {},
   "source": [
    "Q3. Write a Python function to calculate the probability density function of a normal distribution with\n",
    "given mean and standard deviation at a given point.\n"
   ]
  },
  {
   "cell_type": "code",
   "execution_count": null,
   "metadata": {},
   "outputs": [],
   "source": [
    "import math\n",
    "\n",
    "def normal_pdf(x, mean, std_dev):\n",
    "    return (1 / (std_dev * math.sqrt(2 * math.pi))) * math.exp(-0.5 * ((x - mean) / std_dev) ** 2)\n",
    "\n",
    "# Example Usage:\n",
    "print(normal_pdf(1, 0, 1))  # PDF of normal distribution at x=1 with mean=0, std_dev=1\n"
   ]
  },
  {
   "cell_type": "markdown",
   "metadata": {},
   "source": [
    "Q4. What are the properties of Binomial distribution? Give two examples of events where binomial\n",
    "distribution can be applied.\n"
   ]
  },
  {
   "cell_type": "code",
   "execution_count": null,
   "metadata": {},
   "outputs": [],
   "source": [
    "# Properties:\n",
    "# Fixed number of trials (n): The experiment is repeated a fixed number of times.\n",
    "# Two outcomes: Each trial has only two possible outcomes: success or failure.\n",
    "# Constant probability of success (p): The probability of success remains the same for each trial.\n",
    "# Independent trials: The outcome of one trial does not affect the outcome of another.\n",
    "# Examples:\n",
    "# Tossing a coin 10 times and counting the number of heads.\n",
    "# Checking 100 products and recording the number of defective products."
   ]
  },
  {
   "cell_type": "markdown",
   "metadata": {},
   "source": [
    "Q5. Generate a random sample of size 1000 from a binomial distribution with probability of success 0.4\n",
    "and plot a histogram of the results using matplotlib.\n"
   ]
  },
  {
   "cell_type": "code",
   "execution_count": null,
   "metadata": {},
   "outputs": [],
   "source": [
    "import numpy as np\n",
    "import matplotlib.pyplot as plt\n",
    "\n",
    "# Generate random sample\n",
    "sample = np.random.binomial(n=10, p=0.4, size=1000)\n",
    "\n",
    "# Plot histogram\n",
    "plt.hist(sample, bins=30, edgecolor='k', alpha=0.7)\n",
    "plt.title(\"Binomial Distribution (n=10, p=0.4)\")\n",
    "plt.xlabel(\"Number of Successes\")\n",
    "plt.ylabel(\"Frequency\")\n",
    "plt.show()\n"
   ]
  },
  {
   "cell_type": "markdown",
   "metadata": {},
   "source": [
    "Q6. Write a Python function to calculate the cumulative distribution function of a Poisson distribution\n",
    "with given mean at a given point.\n"
   ]
  },
  {
   "cell_type": "code",
   "execution_count": null,
   "metadata": {},
   "outputs": [],
   "source": [
    "import math\n",
    "\n",
    "def poisson_cdf(k, mean):\n",
    "    cdf = 0\n",
    "    for i in range(0, k+1):\n",
    "        cdf += (mean**i * math.exp(-mean)) / math.factorial(i)\n",
    "    return cdf\n",
    "\n",
    "# Example Usage:\n",
    "print(poisson_cdf(3, 2))  # CDF for Poisson distribution with mean=2 at k=3\n"
   ]
  },
  {
   "cell_type": "markdown",
   "metadata": {},
   "source": [
    "Q7. How Binomial distribution different from Poisson distribution?\n"
   ]
  },
  {
   "cell_type": "code",
   "execution_count": null,
   "metadata": {},
   "outputs": [],
   "source": [
    "# The Binomial distribution is used for a fixed number of independent trials, each with two possible outcomes (success or failure), and has a constant probability of success. \n",
    "# In contrast, the Poisson distribution models the number of events occurring within a fixed interval of time or space, where events happen independently and the mean rate of occurrence is constant. \n",
    "# The mean and variance of the binomial distribution are np and np(1-p), respectively, while in the Poisson distribution, the mean and variance are both equal to λ.\n"
   ]
  },
  {
   "cell_type": "markdown",
   "metadata": {},
   "source": [
    "Q8. Generate a random sample of size 1000 from a Poisson distribution with mean 5 and calculate the\n",
    "sample mean and variance.\n"
   ]
  },
  {
   "cell_type": "code",
   "execution_count": null,
   "metadata": {},
   "outputs": [],
   "source": [
    "# Generate random sample\n",
    "sample_poisson = np.random.poisson(lam=5, size=1000)\n",
    "\n",
    "# Calculate sample mean and variance\n",
    "sample_mean = np.mean(sample_poisson)\n",
    "sample_variance = np.var(sample_poisson)\n",
    "\n",
    "print(f\"Sample Mean: {sample_mean}\")\n",
    "print(f\"Sample Variance: {sample_variance}\")\n"
   ]
  },
  {
   "cell_type": "markdown",
   "metadata": {},
   "source": [
    "Q9. How mean and variance are related in Binomial distribution and Poisson distribution?\n"
   ]
  },
  {
   "cell_type": "code",
   "execution_count": null,
   "metadata": {},
   "outputs": [],
   "source": [
    "# Poisson Distribution:\n",
    "# Binomial Distribution:\n",
    "# Mean = n * p\n",
    "# Variance = n * p * (1 - p)\n",
    "# Poisson Distribution:\n",
    "# Mean = Variance = λ (rate parameter)"
   ]
  },
  {
   "cell_type": "markdown",
   "metadata": {},
   "source": [
    "Q10. In normal distribution with respect to mean position, where does the least frequent data appear?"
   ]
  },
  {
   "cell_type": "code",
   "execution_count": null,
   "metadata": {},
   "outputs": [],
   "source": [
    "# In a normal distribution, the least frequent data appear in the tails of the distribution, which are farthest from the mean (both in the extreme left and right). These points correspond to values that are many standard deviations away from the mean, representing rare events."
   ]
  }
 ],
 "metadata": {
  "kernelspec": {
   "display_name": "Python 3",
   "language": "python",
   "name": "python3"
  },
  "language_info": {
   "name": "python",
   "version": "3.11.9"
  }
 },
 "nbformat": 4,
 "nbformat_minor": 2
}
