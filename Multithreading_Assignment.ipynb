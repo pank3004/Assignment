{
 "cells": [
  {
   "cell_type": "markdown",
   "metadata": {},
   "source": [
    "(1). what is multithreading in python? hy is it used? Name the module used to handle threads in python\n"
   ]
  },
  {
   "cell_type": "code",
   "execution_count": null,
   "metadata": {},
   "outputs": [],
   "source": [
    "# Multithreading in Python refers to the concurrent execution of multiple threads (smaller units of a process) to improve the efficiency and performance of a program, especially when dealing with I/O-bound tasks. Each thread runs in the same memory space, sharing resources but running independently.\n",
    "\n",
    "# Why is it used?\n",
    "\n",
    "# To perform multiple operations concurrently, making the program more efficient.\n",
    "# To improve the performance of I/O-bound tasks (e.g., file reading/writing, network operations).\n",
    "# To make responsive applications (e.g., GUI applications where the user interface remains responsive while background tasks run).\n",
    "# Module used to handle threads in Python:\n",
    "\n",
    "# The threading module."
   ]
  },
  {
   "cell_type": "markdown",
   "metadata": {},
   "source": [
    "(2) why threading module used? rite the use of the following functions\n",
    "( activeCount\n",
    " currentThread\n",
    " enumerate)\n"
   ]
  },
  {
   "cell_type": "code",
   "execution_count": null,
   "metadata": {},
   "outputs": [],
   "source": [
    "# The threading module is used to create, control, and manage threads in Python. It provides a higher-level interface for working with threads compared to the low-level _thread module.\n",
    "\n",
    "# activeCount()\n",
    "# Returns the number of Thread objects currently alive. It can be used to check how many threads are active at a given moment.\n",
    "\n",
    "\n",
    "import threading\n",
    "print(threading.activeCount())  # Output: Number of active threads\n",
    "\n",
    "# currentThread()\n",
    "# Returns the current Thread object corresponding to the caller's thread of control. It can be used to get information about the current thread.\n",
    "\n",
    "\n",
    "import threading\n",
    "print(threading.currentThread())  # Output: <_MainThread(MainThread, started 140735218967552)>\n",
    "\n",
    "# enumerate()\n",
    "# Returns a list of all Thread objects currently alive. It can be used to get a list of all active threads.\n",
    "\n",
    "\n",
    "import threading\n",
    "print(threading.enumerate())  # Output: List of all active threads\n"
   ]
  },
  {
   "cell_type": "markdown",
   "metadata": {},
   "source": [
    "3. Explain the following functions\n",
    " run()\n",
    " start()\n",
    " join() isAlive()\n",
    "\n"
   ]
  },
  {
   "cell_type": "code",
   "execution_count": null,
   "metadata": {},
   "outputs": [],
   "source": [
    "# run(): Defines the entry point for a thread. This method is called when the thread starts. You typically override this method in a subclass to define the thread's behavior.\n",
    "\n",
    "\n",
    "import threading\n",
    "class MyThread(threading.Thread):\n",
    "    def run(self):\n",
    "        print(\"Thread is running\")\n",
    "t = MyThread()\n",
    "t.run()  \n",
    "\n",
    "# start(): Begins the thread's activity by calling the run() method in a separate thread of control. It must be called at most once per thread object.\n",
    "\n",
    "t = MyThread()\n",
    "t.start()  # This will start a new thread and call the run() method\n",
    "\n",
    "# join():  Blocks the calling thread until the thread whose join() method is called terminates. This is used to wait for a thread to complete its execution.\n",
    "\n",
    "t = MyThread()\n",
    "t.start()\n",
    "t.join()  # Wait until the thread completes\n",
    "\n",
    "# isAlive(): Returns True if the thread is still running, otherwise False. It can be used to check if a thread is still active.\n",
    "\n",
    "t = MyThread()\n",
    "t.start()\n",
    "print(t.isAlive())  # Output: True or False"
   ]
  },
  {
   "cell_type": "markdown",
   "metadata": {},
   "source": [
    "4. rite a python program to create two threads. Thread one must print the list of squares and thread\n",
    "two must print the list of cubes\n"
   ]
  },
  {
   "cell_type": "code",
   "execution_count": null,
   "metadata": {},
   "outputs": [],
   "source": [
    "import threading\n",
    "\n",
    "def print_squares(numbers):\n",
    "    for n in numbers:\n",
    "        print(f\"Square of {n}: {n * n}\")\n",
    "\n",
    "def print_cubes(numbers):\n",
    "    for n in numbers:\n",
    "        print(f\"Cube of {n}: {n * n * n}\")\n",
    "\n",
    "numbers = [1, 2, 3, 4, 5]\n",
    "\n",
    "thread1 = threading.Thread(target=print_squares, args=(numbers,))\n",
    "thread2 = threading.Thread(target=print_cubes, args=(numbers,))\n",
    "\n",
    "thread1.start()\n",
    "thread2.start()\n",
    "\n",
    "thread1.join()\n",
    "thread2.join()\n",
    "\n",
    "print(\"Both threads have finished execution.\")\n"
   ]
  },
  {
   "cell_type": "markdown",
   "metadata": {},
   "source": [
    "5. State advantages and disadvantages of multithreading\n"
   ]
  },
  {
   "cell_type": "code",
   "execution_count": null,
   "metadata": {},
   "outputs": [],
   "source": [
    "# Advantages: \n",
    "\n",
    "# Improved performance: Especially for I/O-bound tasks.\n",
    "# Resource sharing: Threads share the same memory space, which makes communication between them more straightforward.\n",
    "# Responsiveness: Multithreading can improve the responsiveness of applications (e.g., a GUI can remain responsive while performing background tasks).\n",
    "# Concurrency: Allows for concurrent execution, which can improve efficiency.\n",
    "    \n",
    "\n",
    "# Disadvantages: \n",
    "\n",
    "# Complexity: Writing thread-safe code can be challenging.\n",
    "# Race conditions: Occur when threads access shared data concurrently and the result depends on the thread scheduling.\n",
    "# Deadlocks: Occur when two or more threads are waiting for each other to release resources.\n",
    "# Context switching overhead: Frequent switching between threads can reduce performance."
   ]
  },
  {
   "cell_type": "markdown",
   "metadata": {},
   "source": [
    "6. Explain deadlocks and race conditions."
   ]
  },
  {
   "cell_type": "code",
   "execution_count": null,
   "metadata": {},
   "outputs": [],
   "source": [
    "# Deadlocks: A deadlock is a situation in multithreading where two or more threads are blocked forever, waiting for each other to release resources. This usually happens when multiple threads acquire locks in different orders and wait for each other to release the locks they need.\n",
    "\n",
    "import threading\n",
    "\n",
    "lock1 = threading.Lock()\n",
    "lock2 = threading.Lock()\n",
    "\n",
    "def thread1():\n",
    "    with lock1:\n",
    "        print(\"Thread 1 acquired lock 1\")\n",
    "        with lock2:\n",
    "            print(\"Thread 1 acquired lock 2\")\n",
    "\n",
    "def thread2():\n",
    "    with lock2:\n",
    "        print(\"Thread 2 acquired lock 2\")\n",
    "        with lock1:\n",
    "            print(\"Thread 2 acquired lock 1\")\n",
    "\n",
    "t1 = threading.Thread(target=thread1)\n",
    "t2 = threading.Thread(target=thread2)\n",
    "\n",
    "t1.start()\n",
    "t2.start()\n",
    "\n",
    "t1.join()\n",
    "t2.join()\n",
    "\n",
    "\n",
    "\n",
    "\n",
    "\n",
    "\n",
    "# Race Conditions:  A race condition occurs when two or more threads access shared data concurrently and try to change it at the same time. The outcome depends on the order in which the access takes place, leading to unpredictable results.\n",
    "\n",
    "import threading\n",
    "\n",
    "counter = 0\n",
    "lock = threading.Lock()\n",
    "\n",
    "def increment():\n",
    "    global counter\n",
    "    for _ in range(100000):\n",
    "        with lock:\n",
    "            counter += 1\n",
    "\n",
    "thread1 = threading.Thread(target=increment)\n",
    "thread2 = threading.Thread(target=increment)\n",
    "\n",
    "thread1.start()\n",
    "thread2.start()\n",
    "\n",
    "thread1.join()\n",
    "thread2.join()\n",
    "\n",
    "print(f\"Final counter value: {counter}\")\n"
   ]
  }
 ],
 "metadata": {
  "language_info": {
   "name": "python"
  }
 },
 "nbformat": 4,
 "nbformat_minor": 2
}
