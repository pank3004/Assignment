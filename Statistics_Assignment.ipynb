{
 "cells": [
  {
   "cell_type": "markdown",
   "metadata": {},
   "source": [
    "Q1. What is Statistics?\n"
   ]
  },
  {
   "cell_type": "code",
   "execution_count": null,
   "metadata": {},
   "outputs": [],
   "source": [
    "# Statistics is the branch of mathematics that deals with the collection, analysis, interpretation, presentation, and organization of data. It provides tools and methodologies to make sense of complex data and draw meaningful conclusions, often in the presence of uncertainty."
   ]
  },
  {
   "cell_type": "markdown",
   "metadata": {},
   "source": [
    "Q2. Define the different types of statistics and give an example of when each type might be used.\n"
   ]
  },
  {
   "cell_type": "code",
   "execution_count": null,
   "metadata": {},
   "outputs": [],
   "source": [
    "# Statistics is broadly divided into two types:\n",
    "\n",
    "# Descriptive Statistics: This involves methods for summarizing and organizing data in an informative way. Examples include measures such as mean, median, mode, range, and standard deviation. Descriptive statistics are often used in everyday life to describe data. For instance, a teacher might use the average score of a class on a test to summarize performance.\n",
    "\n",
    "# Inferential Statistics: This involves methods for making inferences about a larger population based on a sample of data. It includes techniques like hypothesis testing, confidence intervals, and regression analysis. An example would be a pharmaceutical company testing the effectiveness of a new drug on a sample group and then using the results to infer how the drug will perform in the general population."
   ]
  },
  {
   "cell_type": "markdown",
   "metadata": {},
   "source": [
    "Q3. What are the different types of data and how do they differ from each other? Provide an example of\n",
    "each type of data.\n"
   ]
  },
  {
   "cell_type": "code",
   "execution_count": null,
   "metadata": {},
   "outputs": [],
   "source": [
    "# Data can be classified into two main types:\n",
    "\n",
    "# Quantitative Data: This type of data represents quantities and is numerical in nature. It can be further divided into:\n",
    "\n",
    "# Discrete Data: Countable data, such as the number of students in a class.\n",
    "# Continuous Data: Measurable data that can take any value within a range, such as height or temperature.\n",
    "# Examples:\n",
    "\n",
    "# Discrete: Number of cars in a parking lot.\n",
    "# Continuous: The weight of an individual.\n",
    "# Qualitative Data: This type of data represents qualities and is categorical in nature. It can be further divided into:\n",
    "\n",
    "# Nominal Data: Categorical data without a natural order, such as colors or names.\n",
    "# Ordinal Data: Categorical data with a natural order, such as rankings or grades.\n",
    "# Examples:\n",
    "\n",
    "# Nominal: Types of fruits (apple, banana, orange).\n",
    "# Ordinal: Customer satisfaction ratings (satisfied, neutral, dissatisfied)."
   ]
  },
  {
   "cell_type": "markdown",
   "metadata": {},
   "source": [
    "Q4. Categorise the following datasets with respect to quantitative and qualitative data types:\n",
    "(i) Grading in exam: A+, A, B+, B, C+, C, D, E\n",
    "(ii) Colour of mangoes: yellow, green, orange, red\n",
    "(iii) Height data of a class: [178.9, 179, 179.5, 176, 177.2, 178.3, 175.8,...]\n",
    "(iv) Number of mangoes exported by a farm: [500, 600, 478, 672, ...]\n"
   ]
  },
  {
   "cell_type": "code",
   "execution_count": null,
   "metadata": {},
   "outputs": [],
   "source": [
    "# (i) Grading in exam: A+, A, B+, B, C+, C, D, E - Qualitative (Ordinal)\n",
    "# (ii) Colour of mangoes: yellow, green, orange, red - Qualitative (Nominal)\n",
    "# (iii) Height data of a class: [178.9, 179, 179.5, 176, 177.2, 178.3, 175.8,...] - Quantitative (Continuous)\n",
    "# (iv) Number of mangoes exported by a farm: [500, 600, 478, 672, ...] - Quantitative (Discrete)"
   ]
  },
  {
   "cell_type": "markdown",
   "metadata": {},
   "source": [
    "Q5. Explain the concept of levels of measurement and give an example of a variable for each level.\n"
   ]
  },
  {
   "cell_type": "code",
   "execution_count": null,
   "metadata": {},
   "outputs": [],
   "source": [
    "# The levels of measurement describe the nature of information within the values assigned to variables:\n",
    "\n",
    "# Nominal: Categorical data without a specific order. Example: Types of cuisine (Italian, Chinese, Mexican).\n",
    "# Ordinal: Categorical data with a specific order. Example: Movie ratings (poor, average, good, excellent).\n",
    "# Interval: Numerical data with equal intervals between values but no true zero point. Example: Temperature in Celsius.\n",
    "# Ratio: Numerical data with equal intervals and a true zero point. Example: Weight of an object."
   ]
  },
  {
   "cell_type": "markdown",
   "metadata": {},
   "source": [
    "Q6. Why is it important to understand the level of measurement when analyzing data? Provide an\n",
    "example to illustrate your answer.\n"
   ]
  },
  {
   "cell_type": "code",
   "execution_count": null,
   "metadata": {},
   "outputs": [],
   "source": [
    "# Understanding the level of measurement is crucial because it determines the types of statistical analyses that can be performed and the appropriate measures to use. For example, calculating the mean is appropriate for interval and ratio data but not for nominal or ordinal data. Misapplying statistical techniques can lead to incorrect conclusions.\n",
    "\n",
    "# Example: If you try to calculate the average of ordinal data like movie ratings (e.g., poor, average, good, excellent), it might not make sense because the distance between each rating is not equal."
   ]
  },
  {
   "cell_type": "markdown",
   "metadata": {},
   "source": [
    "Q7. How nominal data type is different from ordinal data type.\n"
   ]
  },
  {
   "cell_type": "code",
   "execution_count": null,
   "metadata": {},
   "outputs": [],
   "source": [
    "# Nominal Data: Categories without any order. Example: Types of pets (dog, cat, bird).\n",
    "# Ordinal Data: Categories with a meaningful order but no consistent interval between categories. Example: Education levels (high school, bachelor's, master's, Ph.D.)."
   ]
  },
  {
   "cell_type": "markdown",
   "metadata": {},
   "source": [
    "Q8. Which type of plot can be used to display data in terms of range?\n"
   ]
  },
  {
   "cell_type": "code",
   "execution_count": null,
   "metadata": {},
   "outputs": [],
   "source": [
    "# A box plot (box-and-whisker plot) can be used to display data in terms of range. It shows the distribution of data based on a five-number summary: minimum, first quartile, median, third quartile, and maximum."
   ]
  },
  {
   "cell_type": "markdown",
   "metadata": {},
   "source": [
    "Q9. Describe the difference between descriptive and inferential statistics. Give an example of each\n",
    "type of statistics and explain how they are used.\n"
   ]
  },
  {
   "cell_type": "code",
   "execution_count": null,
   "metadata": {},
   "outputs": [],
   "source": [
    "# Descriptive Statistics: Summarizes and describes the features of a dataset. Example: Calculating the average age of students in a classroom to describe the central tendency of ages.\n",
    "# Inferential Statistics: Makes inferences about a population based on a sample. Example: Using a sample of voters to predict the outcome of an election through polling."
   ]
  },
  {
   "cell_type": "markdown",
   "metadata": {},
   "source": [
    "Q10. What are some common measures of central tendency and variability used in statistics? Explain\n",
    "how each measure can be used to describe a dataset.\n"
   ]
  },
  {
   "cell_type": "code",
   "execution_count": null,
   "metadata": {},
   "outputs": [],
   "source": [
    "# Central Tendency:\n",
    "\n",
    "# Mean: The average of all data points. Useful for datasets with no extreme outliers.\n",
    "# Median: The middle value when data points are ordered. Useful for skewed distributions.\n",
    "# Mode: The most frequently occurring value. Useful for categorical data.\n",
    "    \n",
    "# Variability:\n",
    "\n",
    "# Range: The difference between the maximum and minimum values. Indicates the spread of data.\n",
    "# Variance: The average squared deviation from the mean. Indicates how data points spread out from the mean.\n",
    "# Standard Deviation: The square root of the variance. Provides a measure of spread that is in the same units as the data.\n",
    "\n",
    "\n",
    "\n",
    "\n",
    "\n",
    "\n"
   ]
  },
  {
   "cell_type": "code",
   "execution_count": null,
   "metadata": {},
   "outputs": [],
   "source": []
  }
 ],
 "metadata": {
  "language_info": {
   "name": "python"
  }
 },
 "nbformat": 4,
 "nbformat_minor": 2
}
