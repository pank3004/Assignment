{
 "cells": [
  {
   "cell_type": "markdown",
   "metadata": {},
   "source": [
    "Q1. Explain why we have to use the Exception class while creating a Custom Exception.\n",
    "Note: Here Exception class refers to the base class for all the exceptions.\n",
    "\n",
    "\n"
   ]
  },
  {
   "cell_type": "code",
   "execution_count": 1,
   "metadata": {},
   "outputs": [],
   "source": [
    "# Using the Exception class as the base class when creating a custom exception ensures that your custom exception is properly integrated into the Python exception hierarchy. \n",
    "# Here are the main reasons:\n",
    "\n",
    "# Consistency: \n",
    "#               By inheriting from Exception, your custom exception behaves like any other built-in exception. It can be caught using generic exception handling blocks (except Exception).\n",
    "\n",
    "# Inheritance: \n",
    "#               The Exception class provides the core functionality needed for exceptions, such as initializing the exception message and maintaining exception context.\n",
    "\n",
    "# Hierarchy: \n",
    "#               Using Exception as the base class places your custom exception within the broader exception hierarchy, making it easier to manage and catch in a structured manner."
   ]
  },
  {
   "cell_type": "markdown",
   "metadata": {},
   "source": [
    "Q2. Write a python program to print Python Exception Hierarchy.\n"
   ]
  },
  {
   "cell_type": "code",
   "execution_count": null,
   "metadata": {},
   "outputs": [],
   "source": [
    "def print_exception_hierarchy(exc, level=0):\n",
    "    print(' ' * level * 4 + exc.__name__)\n",
    "    for subclass in exc.__subclasses__():\n",
    "        print_exception_hierarchy(subclass, level + 1)\n",
    "\n",
    "print_exception_hierarchy(BaseException)\n"
   ]
  },
  {
   "cell_type": "markdown",
   "metadata": {},
   "source": [
    "Q3. What errors are defined in the ArithmeticError class? Explain any two with an example.\n"
   ]
  },
  {
   "cell_type": "code",
   "execution_count": 2,
   "metadata": {},
   "outputs": [
    {
     "name": "stdout",
     "output_type": "stream",
     "text": [
      "Caught an error: division by zero\n"
     ]
    }
   ],
   "source": [
    "# The ArithmeticError class is a base class for errors that occur during arithmetic operations. Some errors defined in this class include:\n",
    "\n",
    "#             ZeroDivisionError\n",
    "#             OverflowError\n",
    "#             FloatingPointError\n",
    "\n",
    "# Example 1: ZeroDivisionError\n",
    "\n",
    "try:\n",
    "    result = 10 / 0\n",
    "except ZeroDivisionError as e:\n",
    "    print(f\"Caught an error: {e}\")\n",
    "\n",
    "\n",
    "# Example 2: OverflowError\n",
    "\n",
    "\n",
    "import math\n",
    "\n",
    "try:\n",
    "    result = math.exp(1000)  # Exponential of a large number\n",
    "except OverflowError as e:\n",
    "    print(f\"Caught an error: {e}\")\n"
   ]
  },
  {
   "cell_type": "markdown",
   "metadata": {},
   "source": [
    "Q4. Why LookupError class is used? Explain with an example KeyError and IndexError.\n"
   ]
  },
  {
   "cell_type": "code",
   "execution_count": null,
   "metadata": {},
   "outputs": [],
   "source": [
    " # The LookupError class is a base class for errors raised when a lookup on a sequence or mapping fails. This includes IndexError and KeyError.\n",
    "\n",
    "# Example: KeyError\n",
    "try:\n",
    "    my_dict = {'a': 1, 'b': 2}\n",
    "    value = my_dict['c']\n",
    "except KeyError as e:\n",
    "    print(f\"Caught an error: {e}\")\n",
    "\n",
    "\n",
    "#Example: IndexError\n",
    "\n",
    "\n",
    "try:\n",
    "    my_list = [1, 2, 3]\n",
    "    value = my_list[5]\n",
    "except IndexError as e:\n",
    "    print(f\"Caught an error: {e}\")"
   ]
  },
  {
   "cell_type": "markdown",
   "metadata": {},
   "source": [
    "Q5. Explain ImportError. What is ModuleNotFoundError?\n"
   ]
  },
  {
   "cell_type": "code",
   "execution_count": null,
   "metadata": {},
   "outputs": [],
   "source": [
    "# ImportError is raised when an import statement fails to find the module definition or when a from ... import statement fails to find a name that is to be imported.\n",
    "\n",
    "# ModuleNotFoundError is a subclass of ImportError and is raised specifically when a module cannot be found.\n",
    "\n",
    "try:\n",
    "    import non_existent_module\n",
    "except ModuleNotFoundError as e:\n",
    "    print(f\"Caught an error: {e}\")\n",
    "\n",
    "try:\n",
    "    from math import non_existent_name\n",
    "except ImportError as e:\n",
    "    print(f\"Caught an error: {e}\")\n"
   ]
  },
  {
   "cell_type": "markdown",
   "metadata": {},
   "source": [
    "Q6. List down some best practices for exception handling in python."
   ]
  },
  {
   "cell_type": "code",
   "execution_count": null,
   "metadata": {},
   "outputs": [],
   "source": [
    "# 1 Be specific with exceptions: Catch specific exceptions rather than using a bare except clause. This makes the code more readable and maintainable.\n",
    "\n",
    "try:\n",
    "    # Code that may raise an exception\n",
    "except ValueError:\n",
    "    # Handle ValueError\n",
    "except TypeError:\n",
    "    # Handle TypeError\n",
    "\n",
    "\n",
    "# 2 Use finally blocks for cleanup: Ensure that resources are cleaned up properly, whether an exception is raised or not.\n",
    "try:\n",
    "    file = open('example.txt', 'r')\n",
    "    # Perform file operations\n",
    "except IOError as e:\n",
    "    print(f\"Error: {e}\")\n",
    "finally:\n",
    "    file.close()\n",
    "\n",
    "# 3 Avoid catching exceptions you can't handle: Catch exceptions only if you can handle them meaningfully.\n",
    "# 4 Log exceptions: Log exceptions to a file or monitoring system to help diagnose issues later.\n",
    "import logging\n",
    "\n",
    "try:\n",
    "    # Code that may raise an exception\n",
    "except Exception as e:\n",
    "    logging.error(\"Exception occurred\", exc_info=True)\n",
    "\n",
    "\n",
    "# 5 Raise exceptions with informative messages: When raising exceptions, provide informative messages to help diagnose issues.\n",
    "\n",
    "if some_error_condition:\n",
    "    raise ValueError(\"An informative error message explaining the issue\")\n",
    "\n",
    "# 6 Use custom exceptions for domain-specific errors: Define custom exceptions for errors specific to your application domain.\n",
    "class CustomError(Exception):\n",
    "    pass\n",
    "\n",
    "try:\n",
    "    # Code that may raise a custom exception\n",
    "except CustomError as e:\n",
    "    print(f\"Caught custom error: {e}\")\n"
   ]
  },
  {
   "cell_type": "code",
   "execution_count": null,
   "metadata": {},
   "outputs": [],
   "source": []
  },
  {
   "cell_type": "code",
   "execution_count": null,
   "metadata": {},
   "outputs": [],
   "source": []
  }
 ],
 "metadata": {
  "kernelspec": {
   "display_name": "Python 3",
   "language": "python",
   "name": "python3"
  },
  "language_info": {
   "codemirror_mode": {
    "name": "ipython",
    "version": 3
   },
   "file_extension": ".py",
   "mimetype": "text/x-python",
   "name": "python",
   "nbconvert_exporter": "python",
   "pygments_lexer": "ipython3",
   "version": "3.11.9"
  }
 },
 "nbformat": 4,
 "nbformat_minor": 2
}
