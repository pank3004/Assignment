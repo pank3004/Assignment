{
 "cells": [
  {
   "cell_type": "markdown",
   "metadata": {},
   "source": [
    "Q1. Write a python program to extract the video URL of the first five videos.\n"
   ]
  },
  {
   "cell_type": "code",
   "execution_count": null,
   "metadata": {},
   "outputs": [],
   "source": [
    "from googleapiclient.discovery import build\n",
    "\n",
    "API_KEY = \"YOUR_YOUTUBE_API_KEY\"\n",
    "\n",
    "def get_video_urls(query, max_results=5):\n",
    "    youtube = build(\"youtube\", \"v3\", developerKey=API_KEY)\n",
    "    request = youtube.search().list(part=\"snippet\", maxResults=max_results, q=query, type=\"video\")\n",
    "    response = request.execute()\n",
    "    \n",
    "    video_urls = []\n",
    "    for item in response['items']:\n",
    "        video_id = item['id']['videoId']\n",
    "        video_urls.append(f\"https://www.youtube.com/watch?v={video_id}\")\n",
    "    \n",
    "    return video_urls\n",
    "\n",
    "# Example Usage:\n",
    "video_urls = get_video_urls(\"Python tutorials\")\n",
    "print(video_urls)\n"
   ]
  },
  {
   "cell_type": "markdown",
   "metadata": {},
   "source": [
    "Q2. Write a python program to extract the URL of the video thumbnails of the first five videos.\n"
   ]
  },
  {
   "cell_type": "code",
   "execution_count": null,
   "metadata": {},
   "outputs": [],
   "source": [
    "def get_thumbnail_urls(query, max_results=5):\n",
    "    youtube = build(\"youtube\", \"v3\", developerKey=API_KEY)\n",
    "    request = youtube.search().list(part=\"snippet\", maxResults=max_results, q=query, type=\"video\")\n",
    "    response = request.execute()\n",
    "    \n",
    "    thumbnail_urls = []\n",
    "    for item in response['items']:\n",
    "        thumbnail_urls.append(item['snippet']['thumbnails']['default']['url'])\n",
    "    \n",
    "    return thumbnail_urls\n",
    "\n",
    "# Example Usage:\n",
    "thumbnail_urls = get_thumbnail_urls(\"Python tutorials\")\n",
    "print(thumbnail_urls)\n"
   ]
  },
  {
   "cell_type": "markdown",
   "metadata": {},
   "source": [
    "Q3. Write a python program to extract the title of the first five videos.\n"
   ]
  },
  {
   "cell_type": "code",
   "execution_count": null,
   "metadata": {},
   "outputs": [],
   "source": [
    "def get_video_titles(query, max_results=5):\n",
    "    youtube = build(\"youtube\", \"v3\", developerKey=API_KEY)\n",
    "    request = youtube.search().list(part=\"snippet\", maxResults=max_results, q=query, type=\"video\")\n",
    "    response = request.execute()\n",
    "    \n",
    "    video_titles = []\n",
    "    for item in response['items']:\n",
    "        video_titles.append(item['snippet']['title'])\n",
    "    \n",
    "    return video_titles\n",
    "\n",
    "# Example Usage:\n",
    "video_titles = get_video_titles(\"Python tutorials\")\n",
    "print(video_titles)\n"
   ]
  },
  {
   "cell_type": "markdown",
   "metadata": {},
   "source": [
    "Q4. Write a python program to extract the number of views of the first five videos.\n"
   ]
  },
  {
   "cell_type": "code",
   "execution_count": null,
   "metadata": {},
   "outputs": [],
   "source": [
    "def get_video_views(query, max_results=5):\n",
    "    youtube = build(\"youtube\", \"v3\", developerKey=API_KEY)\n",
    "    search_response = youtube.search().list(part=\"snippet\", maxResults=max_results, q=query, type=\"video\").execute()\n",
    "    \n",
    "    video_views = []\n",
    "    for item in search_response['items']:\n",
    "        video_id = item['id']['videoId']\n",
    "        stats_response = youtube.videos().list(part=\"statistics\", id=video_id).execute()\n",
    "        views = stats_response['items'][0]['statistics'].get('viewCount', 'N/A')\n",
    "        video_views.append(views)\n",
    "    \n",
    "    return video_views\n",
    "\n",
    "# Example Usage:\n",
    "video_views = get_video_views(\"Python tutorials\")\n",
    "print(video_views)\n"
   ]
  },
  {
   "cell_type": "markdown",
   "metadata": {},
   "source": [
    "Q5. Write a python program to extract the time of posting of video for the first five videos.\n"
   ]
  },
  {
   "cell_type": "code",
   "execution_count": null,
   "metadata": {},
   "outputs": [],
   "source": [
    "def get_video_post_times(query, max_results=5):\n",
    "    youtube = build(\"youtube\", \"v3\", developerKey=API_KEY)\n",
    "    request = youtube.search().list(part=\"snippet\", maxResults=max_results, q=query, type=\"video\")\n",
    "    response = request.execute()\n",
    "    \n",
    "    post_times = []\n",
    "    for item in response['items']:\n",
    "        post_times.append(item['snippet']['publishedAt'])\n",
    "    \n",
    "    return post_times\n",
    "\n",
    "# Example Usage:\n",
    "video_post_times = get_video_post_times(\"Python tutorials\")\n",
    "print(video_post_times)\n"
   ]
  },
  {
   "cell_type": "markdown",
   "metadata": {},
   "source": []
  },
  {
   "cell_type": "markdown",
   "metadata": {},
   "source": []
  },
  {
   "cell_type": "markdown",
   "metadata": {},
   "source": []
  },
  {
   "cell_type": "markdown",
   "metadata": {},
   "source": []
  },
  {
   "cell_type": "markdown",
   "metadata": {},
   "source": []
  },
  {
   "cell_type": "markdown",
   "metadata": {},
   "source": []
  },
  {
   "cell_type": "markdown",
   "metadata": {},
   "source": []
  },
  {
   "cell_type": "markdown",
   "metadata": {},
   "source": []
  },
  {
   "cell_type": "markdown",
   "metadata": {},
   "source": []
  }
 ],
 "metadata": {
  "kernelspec": {
   "display_name": "Python 3",
   "language": "python",
   "name": "python3"
  },
  "language_info": {
   "codemirror_mode": {
    "name": "ipython",
    "version": 3
   },
   "file_extension": ".py",
   "mimetype": "text/x-python",
   "name": "python",
   "nbconvert_exporter": "python",
   "pygments_lexer": "ipython3",
   "version": "3.11.9"
  }
 },
 "nbformat": 4,
 "nbformat_minor": 2
}
