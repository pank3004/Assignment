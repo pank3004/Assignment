{
 "cells": [
  {
   "cell_type": "markdown",
   "metadata": {},
   "source": [
    "Q1. What is the difference between Ordinal Encoding and Label Encoding? Provide an example of when you\n",
    "might choose one over the other.\n"
   ]
  },
  {
   "cell_type": "code",
   "execution_count": null,
   "metadata": {},
   "outputs": [],
   "source": [
    "# Ordinal Encoding is used when the categorical variables have a meaningful order or ranking. The categories are replaced with numbers that reflect their order. For example, \"Size\" (Small, Medium, Large) can be encoded as (1, 2, 3), where the order matters.\n",
    "\n",
    "# Label Encoding is used when there is no meaningful order in the categories. Each category is assigned a unique number. For example, \"Color\" (Red, Green, Blue) can be encoded as (0, 1, 2), but the numbers don't reflect any ranking.\n",
    "\n",
    "# Example:\n",
    "\n",
    "# You would use Ordinal Encoding for a feature like \"Size\" (Small, Medium, Large).\n",
    "# You would use Label Encoding for a feature like \"Color\" (Red, Green, Blue), where the order doesn’t matter."
   ]
  },
  {
   "cell_type": "markdown",
   "metadata": {},
   "source": [
    "Q2. Explain how Target Guided Ordinal Encoding works and provide an example of when you might use it in\n",
    "a machine learning project.\n"
   ]
  },
  {
   "cell_type": "code",
   "execution_count": null,
   "metadata": {},
   "outputs": [],
   "source": [
    "# Target Guided Ordinal Encoding assigns ordinal labels to categories based on their relationship with the target variable. This technique is useful when the categorical feature has a strong correlation with the target, and we can use this relationship to assign meaningful numerical values.\n",
    "\n",
    "# Example: Suppose we are predicting house prices and have a categorical feature called \"Neighborhood.\" If we calculate the mean house price for each neighborhood, we can rank the neighborhoods based on their average prices and then assign ordinal values accordingly.\n",
    "\n",
    "# Use this when you have a categorical variable that impacts the target variable in a way that allows you to order the categories meaningfully based on the target's values."
   ]
  },
  {
   "cell_type": "markdown",
   "metadata": {},
   "source": [
    "Q3. Define covariance and explain why it is important in statistical analysis. How is covariance calculated?\n"
   ]
  },
  {
   "cell_type": "code",
   "execution_count": null,
   "metadata": {},
   "outputs": [],
   "source": [
    "\n",
    "# Covariance is a measure of the relationship between two variables. It tells us whether the two variables increase or decrease together (positive covariance) or move in opposite directions (negative covariance).\n",
    "\n",
    "# Covariance is important because it helps us understand how two variables are related and whether changes in one variable correspond to changes in another.\n",
    "\n",
    "# Covariance is calculated by looking at how much two variables deviate from their mean values. The sign and magnitude of the covariance indicate the direction and strength of their relationship.\n",
    "\n"
   ]
  },
  {
   "cell_type": "markdown",
   "metadata": {},
   "source": [
    "Q4. For a dataset with the following categorical variables: Color (red, green, blue), Size (small, medium,\n",
    "large), and Material (wood, metal, plastic), perform label encoding using Python's scikit-learn library.\n",
    "Show your code and explain the output.\n"
   ]
  },
  {
   "cell_type": "code",
   "execution_count": null,
   "metadata": {},
   "outputs": [],
   "source": [
    "from sklearn.preprocessing import LabelEncoder\n",
    "\n",
    "# Data\n",
    "data = {\n",
    "    'Color': ['red', 'green', 'blue', 'green', 'red'],\n",
    "    'Size': ['small', 'medium', 'large', 'small', 'large'],\n",
    "    'Material': ['wood', 'metal', 'plastic', 'metal', 'wood']\n",
    "}\n",
    "\n",
    "# Initializing LabelEncoder\n",
    "le = LabelEncoder()\n",
    "\n",
    "# Encoding each column\n",
    "encoded_data = {col: le.fit_transform(values) for col, values in data.items()}\n",
    "\n",
    "print(encoded_data)\n"
   ]
  },
  {
   "cell_type": "code",
   "execution_count": null,
   "metadata": {},
   "outputs": [],
   "source": [
    "# Explanation of the Output: The LabelEncoder assigns unique integer values to each category in the columns. For instance:\n",
    "\n",
    "# Color: red = 2, green = 1, blue = 0\n",
    "# Size: small = 2, medium = 1, large = 0\n",
    "# Material: wood = 2, metal = 1, plastic = 0\n",
    "# The output will be encoded integer values for each categorical feature."
   ]
  },
  {
   "cell_type": "markdown",
   "metadata": {},
   "source": [
    "Q5. Calculate the covariance matrix for the following variables in a dataset: Age, Income, and Education\n",
    "level. Interpret the results.\n"
   ]
  },
  {
   "cell_type": "code",
   "execution_count": null,
   "metadata": {},
   "outputs": [],
   "source": [
    "# The covariance matrix shows the pairwise covariance between the variables in a dataset. It helps in understanding how different variables interact with each other.\n",
    "\n",
    "# Suppose we have the following variables:\n",
    "\n",
    "# Age\n",
    "# Income\n",
    "# Education Level (represented as an ordinal variable)\n",
    "# The covariance matrix can be computed using Python’s NumPy or Pandas libraries:"
   ]
  },
  {
   "cell_type": "code",
   "execution_count": null,
   "metadata": {},
   "outputs": [],
   "source": [
    "import numpy as np\n",
    "import pandas as pd\n",
    "\n",
    "# Example data\n",
    "data = {\n",
    "    'Age': [25, 30, 35, 40, 45],\n",
    "    'Income': [40000, 50000, 60000, 70000, 80000],\n",
    "    'Education_Level': [1, 2, 2, 3, 3]  # 1: High School, 2: Bachelor's, 3: Master's\n",
    "}\n",
    "\n",
    "df = pd.DataFrame(data)\n",
    "\n",
    "# Calculating covariance matrix\n",
    "cov_matrix = df.cov()\n",
    "print(cov_matrix)\n"
   ]
  },
  {
   "cell_type": "code",
   "execution_count": null,
   "metadata": {},
   "outputs": [],
   "source": [
    "# Interpretation:\n",
    "\n",
    "# Positive covariance between \"Age\" and \"Income\" suggests that as age increases, income tends to increase as well.\n",
    "# Covariance between \"Income\" and \"Education_Level\" may also show a positive relationship, indicating that higher education is associated with higher income."
   ]
  },
  {
   "cell_type": "markdown",
   "metadata": {},
   "source": [
    "Q6. You are working on a machine learning project with a dataset containing several categorical\n",
    "variables, including \"Gender\" (Male/Female), \"Education Level\" (High School/Bachelor's/Master's/PhD),\n",
    "and \"Employment Status\" (Unemployed/Part-Time/Full-Time). Which encoding method would you use for\n",
    "each variable, and why?\n"
   ]
  },
  {
   "cell_type": "code",
   "execution_count": null,
   "metadata": {},
   "outputs": [],
   "source": [
    "# Gender: Since there are only two categories (Male/Female), I would use Label Encoding or Binary Encoding. Label encoding is sufficient since gender has no inherent order.\n",
    "\n",
    "# Education Level: Use Ordinal Encoding because education levels have a natural order (High School < Bachelor’s < Master’s < PhD).\n",
    "\n",
    "# Employment Status: Use One-Hot Encoding because there is no meaningful order among Unemployed, Part-Time, and Full-Time statuses."
   ]
  },
  {
   "cell_type": "markdown",
   "metadata": {},
   "source": [
    "Q7. You are analyzing a dataset with two continuous variables, \"Temperature\" and \"Humidity\", and two\n",
    "categorical variables, \"Weather Condition\" (Sunny/Cloudy/Rainy) and \"Wind Direction\" (North/South/\n",
    "East/West). Calculate the covariance between each pair of variables and interpret the results."
   ]
  },
  {
   "cell_type": "code",
   "execution_count": null,
   "metadata": {},
   "outputs": [],
   "source": [
    "# To calculate covariance between continuous variables like \"Temperature\" and \"Humidity,\" we can directly compute the covariance.\n",
    "\n",
    "# For categorical variables like \"Weather Condition\" and \"Wind Direction,\" covariance is not defined because covariance requires numerical data. However, you can convert these categorical variables into numerical representations (e.g., using one-hot encoding) and then compute covariances.\n",
    "\n",
    "# For continuous variables:"
   ]
  },
  {
   "cell_type": "code",
   "execution_count": null,
   "metadata": {},
   "outputs": [],
   "source": [
    "# Example data for continuous variables\n",
    "import numpy as np\n",
    "data = {\n",
    "    'Temperature': [20, 22, 23, 19, 21],\n",
    "    'Humidity': [30, 45, 50, 35, 40]\n",
    "}\n",
    "\n",
    "df = pd.DataFrame(data)\n",
    "cov_matrix = df.cov()\n",
    "print(cov_matrix)\n",
    "\n",
    "\n",
    "# Interpretation:\n",
    "\n",
    "# If \"Temperature\" and \"Humidity\" have a positive covariance, it means that as temperature increases, humidity tends to increase (and vice versa).\n",
    "# A negative covariance would mean that an increase in one variable corresponds to a decrease in the other."
   ]
  }
 ],
 "metadata": {
  "kernelspec": {
   "display_name": "Python 3",
   "language": "python",
   "name": "python3"
  },
  "language_info": {
   "name": "python",
   "version": "3.11.9"
  }
 },
 "nbformat": 4,
 "nbformat_minor": 2
}
