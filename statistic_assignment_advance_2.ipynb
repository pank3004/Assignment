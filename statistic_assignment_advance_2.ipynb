{
 "cells": [
  {
   "cell_type": "markdown",
   "metadata": {},
   "source": [
    "Q1: What are the Probability Mass Function (PMF) and Probability Density Function (PDF)? Explain with\n",
    "an example.\n"
   ]
  },
  {
   "cell_type": "code",
   "execution_count": null,
   "metadata": {},
   "outputs": [],
   "source": [
    "# Probability Mass Function (PMF): Used for discrete variables, it gives the probability of each possible outcome. \n",
    "# For instance, the PMF of a fair die tells us each face (1 through 6) has a 1/6 chance of landing.\n",
    "\n",
    "# Probability Density Function (PDF): Used for continuous variables, it shows the likelihood of a variable falling within a particular range.\n",
    "# For example, for a normal distribution, the PDF describes how likely different values are around the mean."
   ]
  },
  {
   "cell_type": "markdown",
   "metadata": {},
   "source": [
    "Q2: What is Cumulative Density Function (CDF)? Explain with an example. Why CDF is used?\n"
   ]
  },
  {
   "cell_type": "code",
   "execution_count": null,
   "metadata": {},
   "outputs": [],
   "source": [
    "# CDF: It represents the probability that a random variable is less than or equal to a certain value. For example, if the CDF of test scores at 80 is 0.75, this means 75% of students scored 80 or below.\n",
    "\n",
    "# Usage: CDFs are used to find probabilities over ranges and understand how data is distributed."
   ]
  },
  {
   "cell_type": "markdown",
   "metadata": {},
   "source": [
    "Q3: What are some examples of situations where the normal distribution might be used as a model?\n",
    "Explain how the parameters of the normal distribution relate to the shape of the distribution.\n"
   ]
  },
  {
   "cell_type": "code",
   "execution_count": 1,
   "metadata": {},
   "outputs": [],
   "source": [
    "# Examples: Normal distribution is often used to model things like people's heights, measurement errors, and test scores.\n",
    "\n",
    "# Parameters:\n",
    "\n",
    "# Mean: Centers the distribution. For instance, if average height is 170 cm, the distribution is centered around 170 cm.\n",
    "# Standard Deviation: Measures the spread. A larger standard deviation means a wider and flatter curve, while a smaller one makes it narrower and taller."
   ]
  },
  {
   "cell_type": "markdown",
   "metadata": {},
   "source": [
    "Q4: Explain the importance of Normal Distribution. Give a few real-life examples of Normal\n",
    "Distribution.\n"
   ]
  },
  {
   "cell_type": "code",
   "execution_count": null,
   "metadata": {},
   "outputs": [],
   "source": [
    "# Importance: It simplifies statistical analysis and is key to many statistical methods due to its mathematical properties.\n",
    "\n",
    "# Examples: Examples include IQ scores, stock returns, and errors in scientific measurements, all of which often follow a normal distribution."
   ]
  },
  {
   "cell_type": "markdown",
   "metadata": {},
   "source": [
    "Q5: What is Bernaulli Distribution? Give an Example. What is the difference between Bernoulli\n",
    "Distribution and Binomial Distribution?\n"
   ]
  },
  {
   "cell_type": "code",
   "execution_count": null,
   "metadata": {},
   "outputs": [],
   "source": [
    "# Bernoulli Distribution: Models a single trial with two possible outcomes (success or failure). For instance, flipping a coin where heads is a success.\n",
    "\n",
    "# Binomial Distribution: Models the number of successes in a fixed number of Bernoulli trials. For example, counting the number of heads in 10 coin flips."
   ]
  },
  {
   "cell_type": "markdown",
   "metadata": {},
   "source": [
    "Q6. Consider a dataset with a mean of 50 and a standard deviation of 10. If we assume that the dataset\n",
    "is normally distributed, what is the probability that a randomly selected observation will be greater\n",
    "than 60? Use the appropriate formula and show your calculations.\n"
   ]
  },
  {
   "cell_type": "code",
   "execution_count": null,
   "metadata": {},
   "outputs": [],
   "source": [
    "# Given a mean of 50 and standard deviation of 10, you’d first standardize the value (convert to z-score) and\n",
    "# then find the probability from the standard normal distribution table.\n",
    "# This gives the likelihood of selecting a value greater than 60."
   ]
  },
  {
   "cell_type": "markdown",
   "metadata": {},
   "source": [
    "Q7: Explain uniform Distribution with an example.\n"
   ]
  },
  {
   "cell_type": "code",
   "execution_count": null,
   "metadata": {},
   "outputs": [],
   "source": [
    "# Uniform Distribution: All outcomes are equally likely within a certain range. For example, rolling a fair six-sided die means each outcome (1 through 6) has the same probability."
   ]
  },
  {
   "cell_type": "markdown",
   "metadata": {},
   "source": [
    "Q8: What is the z score? State the importance of the z score.\n"
   ]
  },
  {
   "cell_type": "code",
   "execution_count": null,
   "metadata": {},
   "outputs": [],
   "source": [
    "# Z-score: Indicates how many standard deviations a value is from the mean. It helps in comparing scores from different distributions and finding probabilities."
   ]
  },
  {
   "cell_type": "markdown",
   "metadata": {},
   "source": [
    "Q9: What is Central Limit Theorem? State the significance of the Central Limit Theorem.\n"
   ]
  },
  {
   "cell_type": "code",
   "execution_count": null,
   "metadata": {},
   "outputs": [],
   "source": [
    "# CLT: States that the distribution of sample means approximates a normal distribution as the sample size grows, regardless of the population's distribution. This allows for easier statistical analysis."
   ]
  },
  {
   "cell_type": "markdown",
   "metadata": {},
   "source": [
    "Q10: State the assumptions of the Central Limit Theorem."
   ]
  },
  {
   "cell_type": "code",
   "execution_count": null,
   "metadata": {},
   "outputs": [],
   "source": [
    "# Random Sampling: Samples must be randomly selected.\n",
    "# Sample Size: Needs to be large enough (usually at least 30).\n",
    "# Independence: Observations must be independent of each other."
   ]
  },
  {
   "cell_type": "code",
   "execution_count": null,
   "metadata": {},
   "outputs": [],
   "source": []
  },
  {
   "cell_type": "code",
   "execution_count": null,
   "metadata": {},
   "outputs": [],
   "source": []
  }
 ],
 "metadata": {
  "kernelspec": {
   "display_name": "Python 3",
   "language": "python",
   "name": "python3"
  },
  "language_info": {
   "codemirror_mode": {
    "name": "ipython",
    "version": 3
   },
   "file_extension": ".py",
   "mimetype": "text/x-python",
   "name": "python",
   "nbconvert_exporter": "python",
   "pygments_lexer": "ipython3",
   "version": "3.11.9"
  }
 },
 "nbformat": 4,
 "nbformat_minor": 2
}
