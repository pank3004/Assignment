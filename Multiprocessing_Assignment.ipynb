{
 "cells": [
  {
   "cell_type": "markdown",
   "metadata": {},
   "source": [
    "Q1. What is multiprocessing in python? Why is it useful?\n"
   ]
  },
  {
   "cell_type": "code",
   "execution_count": null,
   "metadata": {},
   "outputs": [],
   "source": [
    "# Multiprocessing in Python refers to the ability to create multiple processes, each with its own Python interpreter and memory space. This allows you to perform parallel execution of code, taking full advantage of multiple CPU cores.\n",
    "\n",
    "# Why is it useful?: \n",
    "\n",
    "# True parallelism:  Unlike threads, which are limited by the Global Interpreter Lock (GIL) in CPython, processes can run truly in parallel on multiple CPU cores.\n",
    "# Improved performance: Especially for CPU-bound tasks, where the computation can be distributed across multiple processes.\n",
    "# Isolation:  Each process has its own memory space, reducing the risk of race conditions and other issues associated with shared memory in multithreading."
   ]
  },
  {
   "cell_type": "markdown",
   "metadata": {},
   "source": [
    "Q2. What are the differences between multiprocessing and multithreading?\n"
   ]
  },
  {
   "cell_type": "code",
   "execution_count": null,
   "metadata": {},
   "outputs": [],
   "source": [
    "\n",
    "#     Feature\t                         Multithreading\t                                         Multiprocessing\n",
    "\n",
    "# Concurrency Type\t    Concurrent execution of multiple threads\t             Parallel execution of multiple processes\n",
    "# GIL Impact\t            Affected by Global Interpreter Lock (GIL)\t             Not affected by GIL; true parallelism\n",
    "# Memory Sharing      \tThreads share the same memory space\t                     Each process has its own memory space\n",
    "# Overhead\t            Lower overhead (threads are lighter)\t                 Higher overhead (processes are heavier)\n",
    "# Suitable For\t        I/O-bound tasks\tCPU-bound tasks \n",
    "# Complexity\t            Synchronization required to avoid race conditions\t     Easier to avoid race conditions due to isolated memory"
   ]
  },
  {
   "cell_type": "markdown",
   "metadata": {},
   "source": [
    "Q3. Write a python code to create a process using the multiprocessing module.\n"
   ]
  },
  {
   "cell_type": "code",
   "execution_count": null,
   "metadata": {},
   "outputs": [],
   "source": [
    "import multiprocessing\n",
    "\n",
    "def worker():\n",
    "    print(\"Worker function is running\")\n",
    "\n",
    "if __name__ == \"__main__\":\n",
    "    process = multiprocessing.Process(target=worker)\n",
    "    process.start()\n",
    "    process.join()\n",
    "    print(\"Main process is done\")\n"
   ]
  },
  {
   "cell_type": "markdown",
   "metadata": {},
   "source": [
    "Q4. What is a multiprocessing pool in python? Why is it used?\n"
   ]
  },
  {
   "cell_type": "code",
   "execution_count": null,
   "metadata": {},
   "outputs": [],
   "source": [
    "# A multiprocessing pool in Python is a collection of worker processes to which tasks can be submitted. The Pool class in the multiprocessing module provides a convenient way to parallelize the execution of a function across multiple input values, distributing the input data across processes (data parallelism).\n",
    "\n",
    "# Why is it used?: \n",
    "\n",
    "# Simplifies parallel execution: Automates the process of distributing tasks across multiple processes.\n",
    "# Efficient resource usage: Manages a pool of worker processes, reusing them for multiple tasks.\n",
    "# Ease of use: Provides simple methods for parallel execution, such as map, apply, apply_async, etc."
   ]
  },
  {
   "cell_type": "markdown",
   "metadata": {},
   "source": [
    "Q5. How can we create a pool of worker processes in python using the multiprocessing module?\n"
   ]
  },
  {
   "cell_type": "code",
   "execution_count": null,
   "metadata": {},
   "outputs": [],
   "source": [
    "import multiprocessing\n",
    "\n",
    "def square(x):\n",
    "    return x * x\n",
    "\n",
    "if __name__ == \"__main__\":\n",
    "    with multiprocessing.Pool(processes=4) as pool:\n",
    "        results = pool.map(square, [1, 2, 3, 4, 5])\n",
    "        print(results)\n"
   ]
  },
  {
   "cell_type": "markdown",
   "metadata": {},
   "source": [
    "Q6. Write a python program to create 4 processes, each process should print a different number using the\n",
    "multiprocessing module in python."
   ]
  },
  {
   "cell_type": "code",
   "execution_count": null,
   "metadata": {},
   "outputs": [],
   "source": [
    "import multiprocessing\n",
    "\n",
    "def print_number(number):\n",
    "    print(f\"Process {multiprocessing.current_process().name} printing: {number}\")\n",
    "\n",
    "if __name__ == \"__main__\":\n",
    "    numbers = [1, 2, 3, 4]\n",
    "    processes = []\n",
    "\n",
    "    for number in numbers:\n",
    "        process = multiprocessing.Process(target=print_number, args=(number,))\n",
    "        processes.append(process)\n",
    "        process.start()\n",
    "\n",
    "    for process in processes:\n",
    "        process.join()\n",
    "\n",
    "    print(\"All processes are done\")\n"
   ]
  },
  {
   "cell_type": "code",
   "execution_count": null,
   "metadata": {},
   "outputs": [],
   "source": []
  }
 ],
 "metadata": {
  "language_info": {
   "name": "python"
  }
 },
 "nbformat": 4,
 "nbformat_minor": 2
}
