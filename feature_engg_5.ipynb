{
 "cells": [
  {
   "cell_type": "markdown",
   "metadata": {},
   "source": [
    "Q1. Pearson correlation coefficient is a measure of the linear relationship between two variables. Suppose\n",
    "you have collected data on the amount of time students spend studying for an exam and their final exam\n",
    "scores. Calculate the Pearson correlation coefficient between these two variables and interpret the result.\n"
   ]
  },
  {
   "cell_type": "code",
   "execution_count": null,
   "metadata": {},
   "outputs": [],
   "source": [
    "# The Pearson correlation coefficient quantifies the linear relationship between two continuous variables. It ranges from -1 to 1, where:\n",
    "\n",
    "# 1 indicates a perfect positive linear relationship.\n",
    "# -1 indicates a perfect negative linear relationship.\n",
    "# 0 indicates no linear relationship.\n",
    "# If the Pearson correlation coefficient between study time and exam scores is close to 1, it suggests that students who spend more time studying tend to score higher on the exam, showing a strong positive linear relationship. If the value is close to 0, it suggests no linear relationship between the two variables."
   ]
  },
  {
   "cell_type": "markdown",
   "metadata": {},
   "source": [
    "Q2. Spearman's rank correlation is a measure of the monotonic relationship between two variables.\n",
    "Suppose you have collected data on the amount of sleep individuals get each night and their overall job\n",
    "satisfaction level on a scale of 1 to 10. Calculate the Spearman's rank correlation between these two\n",
    "variables and interpret the result.\n"
   ]
  },
  {
   "cell_type": "code",
   "execution_count": null,
   "metadata": {},
   "outputs": [],
   "source": [
    "# Spearman’s rank correlation measures the strength and direction of a monotonic relationship between two ranked variables. It is particularly useful for non-linear relationships, as long as the ranking of values remains consistent.\n",
    "\n",
    "# For example, if individuals who sleep more generally report higher job satisfaction (on a scale of 1 to 10), a Spearman correlation close to 1 would indicate that as sleep increases, job satisfaction consistently increases. A value close to -1 would suggest that as sleep increases, job satisfaction decreases, while a value near 0 indicates no consistent relationship between sleep and job satisfaction."
   ]
  },
  {
   "cell_type": "markdown",
   "metadata": {},
   "source": [
    "Q3. Suppose you are conducting a study to examine the relationship between the number of hours of\n",
    "exercise per week and body mass index (BMI) in a sample of adults. You collected data on both variables\n",
    "for 50 participants. Calculate the Pearson correlation coefficient and the Spearman's rank correlation\n",
    "between these two variables and compare the results.\n"
   ]
  },
  {
   "cell_type": "code",
   "execution_count": null,
   "metadata": {},
   "outputs": [],
   "source": [
    "# When examining the relationship between the number of hours of exercise per week and BMI:\n",
    "\n",
    "# Pearson correlation measures the linear relationship. If the coefficient is negative, it suggests that more exercise is associated with a lower BMI (i.e., more exercise leads to weight loss in a linear fashion).\n",
    "# Spearman's rank correlation measures the monotonic relationship, which could capture a non-linear but consistent trend, such as BMI decreasing with exercise but not necessarily in a straight line.\n",
    "# If Pearson and Spearman correlations are similar, the relationship is likely linear. If they differ, the relationship may be non-linear but still monotonic."
   ]
  },
  {
   "cell_type": "markdown",
   "metadata": {},
   "source": [
    "Q4. A researcher is interested in examining the relationship between the number of hours individuals\n",
    "spend watching television per day and their level of physical activity. The researcher collected data on\n",
    "both variables from a sample of 50 participants. Calculate the Pearson correlation coefficient between\n",
    "these two variables.\n"
   ]
  },
  {
   "cell_type": "code",
   "execution_count": null,
   "metadata": {},
   "outputs": [],
   "source": [
    "# The Pearson correlation coefficient between hours spent watching TV per day and physical activity levels would likely be negative if more TV watching correlates with less physical activity. A value close to -1 would indicate a strong inverse relationship, while a value close to 0 would suggest no clear linear relationship between TV watching and physical activity."
   ]
  },
  {
   "cell_type": "markdown",
   "metadata": {},
   "source": [
    "Q5. A survey was conducted to examine the relationship between age and preference for a particular\n",
    "brand of soft drink. The survey results are shown below:\n",
    "\n",
    "                    Age(Years)      Soft drink Preference\n",
    "\n",
    "                    25              Coke\n",
    "                    42              Pepsi\n",
    "                    37              Mountain dew\n",
    "                    19              Coke\n",
    "                    31              Pepsi\n",
    "                    28              Coke\n",
    "\n",
    "\n",
    "\n"
   ]
  },
  {
   "cell_type": "code",
   "execution_count": null,
   "metadata": {},
   "outputs": [],
   "source": [
    "# In this scenario, since \"Soft drink preference\" is a categorical variable (Coke, Pepsi, Mountain Dew), correlation methods like Pearson or Spearman are not suitable. You would need to use a method that handles categorical data, such as a chi-square test or logistic regression, to explore whether there is any relationship between age and soft drink preference."
   ]
  },
  {
   "cell_type": "markdown",
   "metadata": {},
   "source": [
    "\n",
    "\n",
    "Q6. A company is interested in examining the relationship between the number of sales calls made per day\n",
    "and the number of sales made per week. The company collected data on both variables from a sample of\n",
    "30 sales representatives. Calculate the Pearson correlation coefficient between these two variables."
   ]
  },
  {
   "cell_type": "code",
   "execution_count": null,
   "metadata": {},
   "outputs": [],
   "source": [
    "# In this case, the Pearson correlation coefficient would help determine the linear relationship between the number of sales calls made per day and the number of sales made per week. A value near 1 would indicate that more sales calls are strongly associated with more sales made, while a value close to 0 would suggest no relationship between the number of calls and sales."
   ]
  }
 ],
 "metadata": {
  "kernelspec": {
   "display_name": "Python 3",
   "language": "python",
   "name": "python3"
  },
  "language_info": {
   "name": "python",
   "version": "3.11.9"
  }
 },
 "nbformat": 4,
 "nbformat_minor": 2
}
