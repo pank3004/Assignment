{
 "cells": [
  {
   "cell_type": "markdown",
   "metadata": {},
   "source": [
    "Q1. What is an Exception in python? Write the difference between Exceptions and Syntax errors.\n"
   ]
  },
  {
   "cell_type": "code",
   "execution_count": null,
   "metadata": {},
   "outputs": [],
   "source": [
    "# Exception:\n",
    "    #  An exception is an event that occurs during the execution of a program that disrupts the normal flow of the program's instructions. It is typically an error or an unexpected condition that the program should handle appropriately.\n",
    "    # x = 1 / 0  # Raises ZeroDivisionError\n",
    "\n",
    "\n",
    "# Syntax Error: \n",
    "    # A syntax error occurs when the parser detects incorrect syntax in the code. These errors are detected at compile-time, and they prevent the program from running.\n",
    "    # print(\"Hello, World\"  # Missing closing parenthesis results in a SyntaxError\n",
    "\n",
    "\n",
    "# Differences:\n",
    "\n",
    "# Detection Time: Syntax errors are detected before the program runs, during the parsing stage. Exceptions are detected during the execution of the program.\n",
    "# Handling: Syntax errors must be corrected before the code can run. Exceptions can be caught and handled using try-except blocks.\n",
    "\n"
   ]
  },
  {
   "cell_type": "markdown",
   "metadata": {},
   "source": [
    "\n",
    "Q2. What happens when an exception is not handled? Explain with an example.\n"
   ]
  },
  {
   "cell_type": "code",
   "execution_count": null,
   "metadata": {},
   "outputs": [],
   "source": [
    "# When an exception is not handled, the program terminates abruptly, and an error message (traceback) is displayed, indicating the type of exception and where it occurred.\n",
    "\n",
    "def divide(a, b):\n",
    "    return a / b\n",
    "\n",
    "print(divide(4, 0))  # Raises ZeroDivisionError\n"
   ]
  },
  {
   "cell_type": "markdown",
   "metadata": {},
   "source": [
    "\n",
    "Q3. Which Python statements are used to catch and handle exceptions? Explain with an example.\n"
   ]
  },
  {
   "cell_type": "code",
   "execution_count": null,
   "metadata": {},
   "outputs": [],
   "source": [
    "try:\n",
    "    x = 1 / 0\n",
    "except ZeroDivisionError:\n",
    "    print(\"Cannot divide by zero!\")\n",
    "else:\n",
    "    print(\"Division successful.\")\n",
    "finally:\n",
    "    print(\"This block is always executed.\")\n"
   ]
  },
  {
   "cell_type": "markdown",
   "metadata": {},
   "source": [
    "\n",
    "Q4. Explain with an example:\n",
    "try and else\n",
    "finall\n",
    "raise \n"
   ]
  },
  {
   "cell_type": "code",
   "execution_count": null,
   "metadata": {},
   "outputs": [],
   "source": [
    "def check_positive(number):\n",
    "    if number < 0:\n",
    "        raise ValueError(\"Negative value not allowed\")\n",
    "\n",
    "try:\n",
    "    num = 10\n",
    "    check_positive(num)\n",
    "except ValueError as e:\n",
    "    print(f\"Error: {e}\")\n",
    "else:\n",
    "    print(\"The number is positive.\")\n",
    "finally:\n",
    "    print(\"Execution completed.\")\n",
    "\n",
    "try:\n",
    "    num = -10\n",
    "    check_positive(num)\n",
    "except ValueError as e:\n",
    "    print(f\"Error: {e}\")\n",
    "else:\n",
    "    print(\"The number is positive.\")\n",
    "finally:\n",
    "    print(\"Execution completed.\")\n"
   ]
  },
  {
   "cell_type": "markdown",
   "metadata": {},
   "source": [
    "\n",
    "Q5. What are Custom Exceptions in python? Why do we need Custom Exceptions? Explain with an example.\n"
   ]
  },
  {
   "cell_type": "code",
   "execution_count": null,
   "metadata": {},
   "outputs": [],
   "source": [
    "#Custom exceptions allow you to define your own error types to represent specific error conditions in your program. They are useful for making error handling more specific and meaningful, providing clarity and control over different types of errors.\n",
    "\n",
    "class NegativeValueError(Exception):\n",
    "    pass\n",
    "\n",
    "def check_positive(number):\n",
    "    if number < 0:\n",
    "        raise NegativeValueError(\"Negative value not allowed\")\n",
    "\n",
    "try:\n",
    "    num = -10\n",
    "    check_positive(num)\n",
    "except NegativeValueError as e:\n",
    "    print(f\"Error: {e}\")\n"
   ]
  },
  {
   "cell_type": "markdown",
   "metadata": {},
   "source": [
    "\n",
    "Q6. Create a custom exception class. Use this class to handle an exception.\n"
   ]
  },
  {
   "cell_type": "code",
   "execution_count": null,
   "metadata": {},
   "outputs": [],
   "source": [
    "class InvalidAgeError(Exception):\n",
    "    \"\"\"Exception raised for invalid age inputs.\"\"\"\n",
    "    def __init__(self, age, message=\"Age must be between 0 and 120\"):\n",
    "        self.age = age\n",
    "        self.message = message\n",
    "        super().__init__(self.message)\n",
    "\n",
    "def check_age(age):\n",
    "    if age < 0 or age > 120:\n",
    "        raise InvalidAgeError(age)\n",
    "\n",
    "try:\n",
    "    age = 150\n",
    "    check_age(age)\n",
    "except InvalidAgeError as e:\n",
    "    print(f\"InvalidAgeError: {e.age} - {e.message}\")\n"
   ]
  },
  {
   "cell_type": "markdown",
   "metadata": {},
   "source": []
  },
  {
   "cell_type": "code",
   "execution_count": null,
   "metadata": {},
   "outputs": [],
   "source": []
  },
  {
   "cell_type": "code",
   "execution_count": null,
   "metadata": {},
   "outputs": [],
   "source": []
  }
 ],
 "metadata": {
  "language_info": {
   "name": "python"
  }
 },
 "nbformat": 4,
 "nbformat_minor": 2
}
