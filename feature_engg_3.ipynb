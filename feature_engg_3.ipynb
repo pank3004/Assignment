{
 "cells": [
  {
   "cell_type": "markdown",
   "metadata": {},
   "source": [
    "Q1. What is data encoding? How is it useful in data science?.\n"
   ]
  },
  {
   "cell_type": "code",
   "execution_count": null,
   "metadata": {},
   "outputs": [],
   "source": [
    "# Data encoding is the process of converting categorical data into a numerical format that machine learning algorithms can understand. Many algorithms require numerical inputs, so encoding is essential for making categorical variables usable in modeling. It helps in preserving the information contained in categorical variables while enabling better analysis and predictions."
   ]
  },
  {
   "cell_type": "markdown",
   "metadata": {},
   "source": [
    "Q2. What is nominal encoding? Provide an example of how you would use it in a real-world scenario..\n"
   ]
  },
  {
   "cell_type": "code",
   "execution_count": null,
   "metadata": {},
   "outputs": [],
   "source": [
    "# Nominal encoding assigns unique integer values to different categories without implying any order. For example, if you have a categorical variable \"color\" with values such as red, blue, and green, you might assign red = 1, blue = 2, and green = 3.\n",
    "\n",
    "# Example: In a marketing dataset, if you have a \"customer segment\" feature with categories like \"New,\" \"Returning,\" and \"VIP,\" you could use nominal encoding to represent these segments numerically as New = 1, Returning = 2, and VIP = 3. This allows you to include the segment information in machine learning models."
   ]
  },
  {
   "cell_type": "markdown",
   "metadata": {},
   "source": [
    "Q3. In what situations is nominal encoding preferred over one-hot encoding? Provide a practical example..\n"
   ]
  },
  {
   "cell_type": "code",
   "execution_count": null,
   "metadata": {},
   "outputs": [],
   "source": [
    "# Nominal encoding is preferred when dealing with categorical variables that have a large number of unique values, as one-hot encoding would create too many columns, leading to sparsity and potential overfitting.\n",
    "\n",
    "# Example: If you have a \"country\" feature with hundreds of unique countries, using nominal encoding would be more efficient than one-hot encoding, which would create a separate column for each country. Nominal encoding reduces dimensionality while still capturing the categorical nature of the data."
   ]
  },
  {
   "cell_type": "markdown",
   "metadata": {},
   "source": [
    "Q4. Suppose you have a dataset containing categorical data with 5 unique values. Which encoding\n",
    "technique would you use to transform this data into a format suitable for machine learning algorithms?\n",
    "Explain why you made this choice.\n"
   ]
  },
  {
   "cell_type": "code",
   "execution_count": null,
   "metadata": {},
   "outputs": [],
   "source": [
    "# For a dataset with 5 unique categorical values, one-hot encoding would be an appropriate choice if the categories are not ordinal. This technique creates a binary column for each unique category, allowing the model to treat each category independently. This is effective for capturing the presence of each category without implying any order."
   ]
  },
  {
   "cell_type": "markdown",
   "metadata": {},
   "source": [
    "Q5. In a machine learning project, you have a dataset with 1000 rows and 5 columns. Two of the columns\n",
    "are categorical, and the remaining three columns are numerical. If you were to use nominal encoding to\n",
    "transform the categorical data, how many new columns would be created? Show your calculations.\n"
   ]
  },
  {
   "cell_type": "code",
   "execution_count": null,
   "metadata": {},
   "outputs": [],
   "source": [
    "# If you have two categorical columns with, say, 4 unique values in one column and 3 unique values in the other, nominal encoding would create 2 new columns, one for each categorical column. Unlike one-hot encoding, nominal encoding does not create multiple columns for unique values. Instead, it replaces the original categorical values with unique integers, resulting in no additional columns."
   ]
  },
  {
   "cell_type": "markdown",
   "metadata": {},
   "source": [
    "Q6. You are working with a dataset containing information about different types of animals, including their\n",
    "species, habitat, and diet. Which encoding technique would you use to transform the categorical data into\n",
    "a format suitable for machine learning algorithms? Justify your answer.\n"
   ]
  },
  {
   "cell_type": "code",
   "execution_count": null,
   "metadata": {},
   "outputs": [],
   "source": [
    "# For the dataset containing categorical features like species, habitat, and diet, one-hot encoding would be appropriate if these categories do not have an intrinsic order. This method allows each category to be represented independently, ensuring that the model does not assume any ordinal relationship among categories. This is particularly useful in cases where the number of unique categories is manageable, preventing the risk of introducing ordinal biases."
   ]
  },
  {
   "cell_type": "markdown",
   "metadata": {},
   "source": [
    "Q7.You are working on a project that involves predicting customer churn for a telecommunications\n",
    "company. You have a dataset with 5 features, including the customer's gender, age, contract type,\n",
    "monthly charges, and tenure. Which encoding technique(s) would you use to transform the categorical\n",
    "data into numerical data? Provide a step-by-step explanation of how you would implement the encoding.."
   ]
  },
  {
   "cell_type": "code",
   "execution_count": null,
   "metadata": {},
   "outputs": [],
   "source": [
    "# Identify Categorical Features: In this dataset, the categorical features are gender and contract type.\n",
    "\n",
    "# Choose Encoding Technique:\n",
    "\n",
    "# For gender (typically two categories: male and female), one-hot encoding is suitable, creating two columns: one for male and one for female.\n",
    "# For contract type (which may have multiple categories like monthly, yearly, etc.), one-hot encoding is also preferred to avoid implying any order among the contract types.\n",
    "# Implementation Steps:\n",
    "\n",
    "# Use one-hot encoding for both categorical features:\n",
    "# For gender, create columns for male and female.\n",
    "# For contract type, create a binary column for each unique contract type.\n",
    "# Replace the original categorical columns with the new one-hot encoded columns."
   ]
  }
 ],
 "metadata": {
  "kernelspec": {
   "display_name": "Python 3",
   "language": "python",
   "name": "python3"
  },
  "language_info": {
   "name": "python",
   "version": "3.11.9"
  }
 },
 "nbformat": 4,
 "nbformat_minor": 2
}
