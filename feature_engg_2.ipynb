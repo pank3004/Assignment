{
 "cells": [
  {
   "cell_type": "markdown",
   "metadata": {},
   "source": [
    "Q1. What is Min-Max scaling, and how is it used in data preprocessing? Provide an example to illustrate its\n",
    "application.\n"
   ]
  },
  {
   "cell_type": "code",
   "execution_count": null,
   "metadata": {},
   "outputs": [],
   "source": [
    "# Min-Max Scaling is a technique that transforms features to lie within a specific range, usually between 0 and 1. It’s used to ensure that all features contribute equally to the analysis, especially in algorithms sensitive to the scale of data.\n",
    "\n",
    "# Example: For a dataset with values [10, 20, 30, 40, 50], after Min-Max scaling, these values would be transformed to [0, 0.25, 0.5, 0.75, 1]."
   ]
  },
  {
   "cell_type": "markdown",
   "metadata": {},
   "source": [
    "Q2. What is the Unit Vector technique in feature scaling, and how does it differ from Min-Max scaling?\n",
    "Provide an example to illustrate its application.\n"
   ]
  },
  {
   "cell_type": "code",
   "execution_count": null,
   "metadata": {},
   "outputs": [],
   "source": [
    "# The Unit Vector technique scales feature values so that the entire feature vector has a length of 1. It focuses on the direction of the data rather than its magnitude.\n",
    "\n",
    "# Difference from Min-Max Scaling: Min-Max scaling rescales data to a specific range, while the Unit Vector technique normalizes the vector without changing its direction.\n",
    "\n",
    "# Example: For a feature vector [3, 4], after applying the Unit Vector technique, it would be transformed to [0.6, 0.8]."
   ]
  },
  {
   "cell_type": "markdown",
   "metadata": {},
   "source": [
    "Q3. What is PCA (Principle Component Analysis), and how is it used in dimensionality reduction? Provide an\n",
    "example to illustrate its application.\n"
   ]
  },
  {
   "cell_type": "code",
   "execution_count": null,
   "metadata": {},
   "outputs": [],
   "source": [
    "# Principal Component Analysis (PCA) is a technique used to reduce the dimensionality of a dataset while preserving as much variance as possible. It transforms the original features into a new set of uncorrelated features called principal components.\n",
    "\n",
    "# Example: If you have data on height and weight, PCA can help you find that most variance in the data can be explained by a combination of these two features, allowing you to reduce the dataset’s dimensions."
   ]
  },
  {
   "cell_type": "markdown",
   "metadata": {},
   "source": [
    "Q4. What is the relationship between PCA and Feature Extraction, and how can PCA be used for Feature\n",
    "Extraction? Provide an example to illustrate this concept.\n"
   ]
  },
  {
   "cell_type": "code",
   "execution_count": null,
   "metadata": {},
   "outputs": [],
   "source": [
    "# PCA is a method of Feature Extraction, where it reduces the number of features while retaining important information. It transforms the original features into principal components that capture the most variance.\n",
    "\n",
    "# Example: If a dataset has 10 features but 3 principal components explain 95% of the variance, you would extract those 3 components to use in your analysis instead of the original 10 features."
   ]
  },
  {
   "cell_type": "markdown",
   "metadata": {},
   "source": [
    "Q5. You are working on a project to build a recommendation system for a food delivery service. The dataset\n",
    "contains features such as price, rating, and delivery time. Explain how you would use Min-Max scaling to\n",
    "preprocess the data.\n"
   ]
  },
  {
   "cell_type": "code",
   "execution_count": null,
   "metadata": {},
   "outputs": [],
   "source": [
    "# Identify numerical features like price, rating, and delivery time.\n",
    "# Apply Min-Max scaling to these features to transform them to a range between 0 and 1.\n",
    "# Ensure the same scaling is applied to any new incoming data for consistency.\n"
   ]
  },
  {
   "cell_type": "markdown",
   "metadata": {},
   "source": [
    "Q6. You are working on a project to build a model to predict stock prices. The dataset contains many\n",
    "features, such as company financial data and market trends. Explain how you would use PCA to reduce the\n",
    "dimensionality of the dataset.\n"
   ]
  },
  {
   "cell_type": "code",
   "execution_count": null,
   "metadata": {},
   "outputs": [],
   "source": [
    "# Standardize the dataset to ensure all features are on the same scale.\n",
    "# Apply PCA to identify the principal components that capture the most variance in the data.\n",
    "# Choose a number of components that explain a significant portion of the variance (e.g., 95%).\n",
    "# Transform the original dataset into this reduced-dimensional space for modeling."
   ]
  },
  {
   "cell_type": "markdown",
   "metadata": {},
   "source": [
    "Q7. For a dataset containing the following values: [1, 5, 10, 15, 20], perform Min-Max scaling to transform the\n",
    "values to a range of -1 to 1.\n"
   ]
  },
  {
   "cell_type": "code",
   "execution_count": null,
   "metadata": {},
   "outputs": [],
   "source": [
    "# To transform the values to a range of -1 to 1, the scaled values would be approximately:\n",
    "\n",
    "# 1 becomes -1\n",
    "# 5 becomes around -0.58\n",
    "# 10 becomes around -0.05\n",
    "# 15 becomes around 0.37\n",
    "# 20 becomes 1"
   ]
  },
  {
   "cell_type": "markdown",
   "metadata": {},
   "source": [
    "Q8. For a dataset containing the following features: [height, weight, age, gender, blood pressure], perform\n",
    "Feature Extraction using PCA. How many principal components would you choose to retain, and why?"
   ]
  },
  {
   "cell_type": "code",
   "execution_count": null,
   "metadata": {},
   "outputs": [],
   "source": [
    "# After applying PCA, you would examine how much variance each principal component explains. If the first few principal components explain a significant portion of the variance (e.g., 95%), you would choose to retain those components. This balance helps in reducing dimensionality while preserving important information in the data."
   ]
  }
 ],
 "metadata": {
  "kernelspec": {
   "display_name": "Python 3",
   "language": "python",
   "name": "python3"
  },
  "language_info": {
   "name": "python",
   "version": "3.11.9"
  }
 },
 "nbformat": 4,
 "nbformat_minor": 2
}
