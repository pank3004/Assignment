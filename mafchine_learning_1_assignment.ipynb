{
 "cells": [
  {
   "cell_type": "markdown",
   "metadata": {},
   "source": [
    "Q1: Explain the following with an example:\n",
    "a Artificial IntelligencJ\n",
    "v Machine Learnin,\n",
    "c Deep Learning\n"
   ]
  },
  {
   "cell_type": "code",
   "execution_count": null,
   "metadata": {},
   "outputs": [],
   "source": [
    "# Artificial Intelligence (AI): This is the broadest concept, referring to machines or software that can perform tasks that typically require human intelligence. Examples include chatbots, recommendation systems, and autonomous vehicles.\n",
    "\n",
    "# Example: A virtual assistant like Siri or Google Assistant that understands and responds to voice commands.\n",
    "\n",
    "# Machine Learning (ML): A subset of AI that focuses on the idea that systems can learn from data,dd improve their performance over time without being explicitly programmed for specific tasks.\n",
    "\n",
    "# Example: A spam filter that learns to classify emails as spam or not spam based on patterns it identifies in the data.\n",
    "\n",
    "# Deep Learning (DL): A further subset of ML that uses neural networks with many layers (deep neural networks) to analyze various factors of data.\n",
    "\n",
    "# Example: Image recognition systems that can identify objects, faces, or actions in images, such as Facebook tagging photos automatically."
   ]
  },
  {
   "cell_type": "markdown",
   "metadata": {},
   "source": [
    "Q2: What is supervised learning? List some examples of supervised learning.\n"
   ]
  },
  {
   "cell_type": "code",
   "execution_count": null,
   "metadata": {},
   "outputs": [],
   "source": [
    "# Supervised learning is a type of ML where the model is trained on labeled data, meaning each training example is paired with an output label. The goal is for the model to learn to predict the output from the input.\n",
    "\n",
    "# Examples:\n",
    "# Email classification (spam vs. not spam)\n",
    "# Sentiment analysis (positive or negative sentiment)\n",
    "# Image classification (identifying objects in images)\n",
    "# Regression tasks (predicting house prices based on features)"
   ]
  },
  {
   "cell_type": "markdown",
   "metadata": {},
   "source": [
    "Q3: What is unsupervised learning? List some examples of unsupervised learning.\n"
   ]
  },
  {
   "cell_type": "code",
   "execution_count": null,
   "metadata": {},
   "outputs": [],
   "source": [
    "# Unsupervised learning involves training a model on data that is not labeled, allowing the system to identify patterns and relationships in the data without specific instructions.\n",
    "\n",
    "# Examples:\n",
    "# Clustering (e.g., grouping customers based on purchasing behavior)\n",
    "# Anomaly detection (e.g., identifying unusual patterns in network traffic)\n",
    "# Association rule learning (e.g., market basket analysis)\n",
    "# Dimensionality reduction (e.g., PCA for visualizing high-dimensional data)"
   ]
  },
  {
   "cell_type": "markdown",
   "metadata": {},
   "source": [
    "Q4: What is the difference between AI, ML, DL, and DS?\n"
   ]
  },
  {
   "cell_type": "code",
   "execution_count": null,
   "metadata": {},
   "outputs": [],
   "source": [
    "# # AI (Artificial Intelligence): The broad concept of machines performing tasks that typically require human intelligence.\n",
    "# ML (Machine Learning): A subset of AI focused on algorithms that allow computers to learn from data.\n",
    "# DL (Deep Learning): A further subset of ML that uses neural networks with many layers to analyze data.\n",
    "# DS (Data Science): An interdisciplinary field that combines statistics, computer science, and domain expertise to extract insights from data, often using ML techniques."
   ]
  },
  {
   "cell_type": "markdown",
   "metadata": {},
   "source": [
    "Q5: What are the main differences between supervised, unsupervised, and semi-supervised learning?\n"
   ]
  },
  {
   "cell_type": "code",
   "execution_count": null,
   "metadata": {},
   "outputs": [],
   "source": [
    "# Supervised Learning: Uses labeled data; the model learns to predict outputs based on input-output pairs.\n",
    "# Unsupervised Learning: Uses unlabeled data; the model finds patterns or groupings without specific guidance.\n",
    "# Semi-Supervised Learning: A mix of both; it uses a small amount of labeled data along with a large amount of unlabeled data, which helps improve learning accuracy."
   ]
  },
  {
   "cell_type": "markdown",
   "metadata": {},
   "source": [
    "Q6: What is train, test and validation split? Explain the importance of each term.\n"
   ]
  },
  {
   "cell_type": "code",
   "execution_count": null,
   "metadata": {},
   "outputs": [],
   "source": [
    "# Train Split: The portion of the dataset used to train the model. It learns from this data.\n",
    "# Validation Split: A subset of the training data used to tune model parameters and prevent overfitting. It helps in model selection and hyperparameter tuning.\n",
    "# Test Split: The portion of the dataset used to evaluate the model's performance on unseen data. It provides an unbiased assessment of the model’s effectiveness."
   ]
  },
  {
   "cell_type": "markdown",
   "metadata": {},
   "source": [
    "Q7: How can unsupervised learning be used in anomaly detection?\n"
   ]
  },
  {
   "cell_type": "code",
   "execution_count": null,
   "metadata": {},
   "outputs": [],
   "source": [
    "# Unsupervised learning can identify anomalies by learning the normal patterns within a dataset. For example, clustering algorithms can group data points, and points that do not belong to any cluster or are far from other points can be flagged as anomalies. Techniques like autoencoders can also help in reconstructing data and identifying outliers based on reconstruction error."
   ]
  },
  {
   "cell_type": "markdown",
   "metadata": {},
   "source": [
    "Q8: List down some commonly used supervised learning algorithms and unsupervised learning\n",
    "algorithms."
   ]
  },
  {
   "cell_type": "code",
   "execution_count": null,
   "metadata": {},
   "outputs": [],
   "source": [
    "# Supervised Learning Algorithms:\n",
    "\n",
    "# Linear Regression\n",
    "# Logistic Regression\n",
    "# Decision Trees\n",
    "# Support Vector Machines (SVM)\n",
    "# Random Forests\n",
    "# Neural Networks\n",
    "# Unsupervised Learning Algorithms:\n",
    "\n",
    "# K-Means Clustering\n",
    "# Hierarchical Clustering\n",
    "# DBSCAN\n",
    "# Principal Component Analysis (PCA)\n",
    "# Autoencoders\n",
    "# t-Distributed Stochastic Neighbor Embedding (t-SNE)"
   ]
  }
 ],
 "metadata": {
  "kernelspec": {
   "display_name": "Python 3",
   "language": "python",
   "name": "python3"
  },
  "language_info": {
   "name": "python",
   "version": "3.11.9"
  }
 },
 "nbformat": 4,
 "nbformat_minor": 2
}
